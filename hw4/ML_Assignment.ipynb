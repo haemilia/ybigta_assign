{
  "cells": [
    {
      "cell_type": "markdown",
      "metadata": {
        "id": "cP_K39J9V4AO"
      },
      "source": [
        "실습 및 과제에 해당하는 내용은 [파이썬 머신러닝 완벽가이드]와 kaggle에서 참고했습니다.\n",
        "\n",
        "kaggle 링크 : https://www.kaggle.com/competitions/bike-sharing-demand/data"
      ]
    },
    {
      "cell_type": "code",
      "execution_count": 1,
      "metadata": {
        "colab": {
          "base_uri": "https://localhost:8080/"
        },
        "id": "FsUkrQzwDjBT",
        "outputId": "775c3d0f-51c2-4028-c68e-99a337faac60"
      },
      "outputs": [
        {
          "output_type": "stream",
          "name": "stdout",
          "text": [
            "Mounted at /content/drive\n"
          ]
        }
      ],
      "source": [
        "from google.colab import drive\n",
        "drive.mount('/content/drive')"
      ]
    },
    {
      "cell_type": "code",
      "execution_count": 2,
      "metadata": {
        "id": "kYeGkKxu862E"
      },
      "outputs": [],
      "source": [
        "import numpy as np\n",
        "import pandas as pd\n",
        "import seaborn as sns\n",
        "import matplotlib.pyplot as plt\n",
        "\n",
        "%matplotlib inline\n",
        "\n",
        "import warnings\n",
        "warnings.filterwarnings(\"ignore\", category=RuntimeWarning)"
      ]
    },
    {
      "cell_type": "markdown",
      "metadata": {
        "id": "mUXYq_F1MDgL"
      },
      "source": [
        "# **데이터 설명**\n",
        "*   datetime : hourly date + timetstamp\n",
        "*   season : 1 = 봄, 2 = 여름, 3 = 가을, 4 = 겨울\n",
        "*   holiday : 1 = 토, 일요일의 주말을 제외한 국격일 등의 휴일, 0 =휴일이 아닌 날\n",
        "*   workingday : 1 = 토, 일요일의 주말 및 휴일이 아닌 주중, 0 = 주말 및 휴일\n",
        "*   weather : 1 = 맑음, 약간 구름낀 흐림, 2 = 안개, 안개 + 흐림, 3 = 가벼운 눈, 가벼운 비 + 천둥, 4 = 심한 눈/비, 천둥/번개\n",
        "*   temp : 온도(섭씨)\n",
        "*   atemp :체감온도(섭씨)\n",
        "*   humidity : 상대 습도\n",
        "*   windspeed : 풍속\n",
        "*   casual : 사전에 등록되지 않는 사용자가 대여한 횟수\n",
        "*   registered : 사전에 등록된 사용자가 대여한 횟수\n",
        "*   count : 대여 횟수"
      ]
    },
    {
      "cell_type": "markdown",
      "metadata": {
        "id": "X_VzaAuXNZbq"
      },
      "source": [
        "# 데이터 불러오기"
      ]
    },
    {
      "cell_type": "code",
      "execution_count": 9,
      "metadata": {
        "colab": {
          "base_uri": "https://localhost:8080/",
          "height": 224
        },
        "id": "g45qHgelC0Rn",
        "outputId": "3db821db-5152-41c2-e52f-1cdc1d79dd2e"
      },
      "outputs": [
        {
          "output_type": "stream",
          "name": "stdout",
          "text": [
            "(10886, 12)\n"
          ]
        },
        {
          "output_type": "execute_result",
          "data": {
            "text/plain": [
              "              datetime  season  holiday  workingday  weather  temp   atemp  \\\n",
              "0  2011-01-01 00:00:00       1        0           0        1  9.84  14.395   \n",
              "1  2011-01-01 01:00:00       1        0           0        1  9.02  13.635   \n",
              "2  2011-01-01 02:00:00       1        0           0        1  9.02  13.635   \n",
              "3  2011-01-01 03:00:00       1        0           0        1  9.84  14.395   \n",
              "4  2011-01-01 04:00:00       1        0           0        1  9.84  14.395   \n",
              "\n",
              "   humidity  windspeed  casual  registered  count  \n",
              "0        81        0.0       3          13     16  \n",
              "1        80        0.0       8          32     40  \n",
              "2        80        0.0       5          27     32  \n",
              "3        75        0.0       3          10     13  \n",
              "4        75        0.0       0           1      1  "
            ],
            "text/html": [
              "\n",
              "  <div id=\"df-7048b0f9-4ffd-43f7-aa68-095b0db0da5f\">\n",
              "    <div class=\"colab-df-container\">\n",
              "      <div>\n",
              "<style scoped>\n",
              "    .dataframe tbody tr th:only-of-type {\n",
              "        vertical-align: middle;\n",
              "    }\n",
              "\n",
              "    .dataframe tbody tr th {\n",
              "        vertical-align: top;\n",
              "    }\n",
              "\n",
              "    .dataframe thead th {\n",
              "        text-align: right;\n",
              "    }\n",
              "</style>\n",
              "<table border=\"1\" class=\"dataframe\">\n",
              "  <thead>\n",
              "    <tr style=\"text-align: right;\">\n",
              "      <th></th>\n",
              "      <th>datetime</th>\n",
              "      <th>season</th>\n",
              "      <th>holiday</th>\n",
              "      <th>workingday</th>\n",
              "      <th>weather</th>\n",
              "      <th>temp</th>\n",
              "      <th>atemp</th>\n",
              "      <th>humidity</th>\n",
              "      <th>windspeed</th>\n",
              "      <th>casual</th>\n",
              "      <th>registered</th>\n",
              "      <th>count</th>\n",
              "    </tr>\n",
              "  </thead>\n",
              "  <tbody>\n",
              "    <tr>\n",
              "      <th>0</th>\n",
              "      <td>2011-01-01 00:00:00</td>\n",
              "      <td>1</td>\n",
              "      <td>0</td>\n",
              "      <td>0</td>\n",
              "      <td>1</td>\n",
              "      <td>9.84</td>\n",
              "      <td>14.395</td>\n",
              "      <td>81</td>\n",
              "      <td>0.0</td>\n",
              "      <td>3</td>\n",
              "      <td>13</td>\n",
              "      <td>16</td>\n",
              "    </tr>\n",
              "    <tr>\n",
              "      <th>1</th>\n",
              "      <td>2011-01-01 01:00:00</td>\n",
              "      <td>1</td>\n",
              "      <td>0</td>\n",
              "      <td>0</td>\n",
              "      <td>1</td>\n",
              "      <td>9.02</td>\n",
              "      <td>13.635</td>\n",
              "      <td>80</td>\n",
              "      <td>0.0</td>\n",
              "      <td>8</td>\n",
              "      <td>32</td>\n",
              "      <td>40</td>\n",
              "    </tr>\n",
              "    <tr>\n",
              "      <th>2</th>\n",
              "      <td>2011-01-01 02:00:00</td>\n",
              "      <td>1</td>\n",
              "      <td>0</td>\n",
              "      <td>0</td>\n",
              "      <td>1</td>\n",
              "      <td>9.02</td>\n",
              "      <td>13.635</td>\n",
              "      <td>80</td>\n",
              "      <td>0.0</td>\n",
              "      <td>5</td>\n",
              "      <td>27</td>\n",
              "      <td>32</td>\n",
              "    </tr>\n",
              "    <tr>\n",
              "      <th>3</th>\n",
              "      <td>2011-01-01 03:00:00</td>\n",
              "      <td>1</td>\n",
              "      <td>0</td>\n",
              "      <td>0</td>\n",
              "      <td>1</td>\n",
              "      <td>9.84</td>\n",
              "      <td>14.395</td>\n",
              "      <td>75</td>\n",
              "      <td>0.0</td>\n",
              "      <td>3</td>\n",
              "      <td>10</td>\n",
              "      <td>13</td>\n",
              "    </tr>\n",
              "    <tr>\n",
              "      <th>4</th>\n",
              "      <td>2011-01-01 04:00:00</td>\n",
              "      <td>1</td>\n",
              "      <td>0</td>\n",
              "      <td>0</td>\n",
              "      <td>1</td>\n",
              "      <td>9.84</td>\n",
              "      <td>14.395</td>\n",
              "      <td>75</td>\n",
              "      <td>0.0</td>\n",
              "      <td>0</td>\n",
              "      <td>1</td>\n",
              "      <td>1</td>\n",
              "    </tr>\n",
              "  </tbody>\n",
              "</table>\n",
              "</div>\n",
              "      <button class=\"colab-df-convert\" onclick=\"convertToInteractive('df-7048b0f9-4ffd-43f7-aa68-095b0db0da5f')\"\n",
              "              title=\"Convert this dataframe to an interactive table.\"\n",
              "              style=\"display:none;\">\n",
              "        \n",
              "  <svg xmlns=\"http://www.w3.org/2000/svg\" height=\"24px\"viewBox=\"0 0 24 24\"\n",
              "       width=\"24px\">\n",
              "    <path d=\"M0 0h24v24H0V0z\" fill=\"none\"/>\n",
              "    <path d=\"M18.56 5.44l.94 2.06.94-2.06 2.06-.94-2.06-.94-.94-2.06-.94 2.06-2.06.94zm-11 1L8.5 8.5l.94-2.06 2.06-.94-2.06-.94L8.5 2.5l-.94 2.06-2.06.94zm10 10l.94 2.06.94-2.06 2.06-.94-2.06-.94-.94-2.06-.94 2.06-2.06.94z\"/><path d=\"M17.41 7.96l-1.37-1.37c-.4-.4-.92-.59-1.43-.59-.52 0-1.04.2-1.43.59L10.3 9.45l-7.72 7.72c-.78.78-.78 2.05 0 2.83L4 21.41c.39.39.9.59 1.41.59.51 0 1.02-.2 1.41-.59l7.78-7.78 2.81-2.81c.8-.78.8-2.07 0-2.86zM5.41 20L4 18.59l7.72-7.72 1.47 1.35L5.41 20z\"/>\n",
              "  </svg>\n",
              "      </button>\n",
              "      \n",
              "  <style>\n",
              "    .colab-df-container {\n",
              "      display:flex;\n",
              "      flex-wrap:wrap;\n",
              "      gap: 12px;\n",
              "    }\n",
              "\n",
              "    .colab-df-convert {\n",
              "      background-color: #E8F0FE;\n",
              "      border: none;\n",
              "      border-radius: 50%;\n",
              "      cursor: pointer;\n",
              "      display: none;\n",
              "      fill: #1967D2;\n",
              "      height: 32px;\n",
              "      padding: 0 0 0 0;\n",
              "      width: 32px;\n",
              "    }\n",
              "\n",
              "    .colab-df-convert:hover {\n",
              "      background-color: #E2EBFA;\n",
              "      box-shadow: 0px 1px 2px rgba(60, 64, 67, 0.3), 0px 1px 3px 1px rgba(60, 64, 67, 0.15);\n",
              "      fill: #174EA6;\n",
              "    }\n",
              "\n",
              "    [theme=dark] .colab-df-convert {\n",
              "      background-color: #3B4455;\n",
              "      fill: #D2E3FC;\n",
              "    }\n",
              "\n",
              "    [theme=dark] .colab-df-convert:hover {\n",
              "      background-color: #434B5C;\n",
              "      box-shadow: 0px 1px 3px 1px rgba(0, 0, 0, 0.15);\n",
              "      filter: drop-shadow(0px 1px 2px rgba(0, 0, 0, 0.3));\n",
              "      fill: #FFFFFF;\n",
              "    }\n",
              "  </style>\n",
              "\n",
              "      <script>\n",
              "        const buttonEl =\n",
              "          document.querySelector('#df-7048b0f9-4ffd-43f7-aa68-095b0db0da5f button.colab-df-convert');\n",
              "        buttonEl.style.display =\n",
              "          google.colab.kernel.accessAllowed ? 'block' : 'none';\n",
              "\n",
              "        async function convertToInteractive(key) {\n",
              "          const element = document.querySelector('#df-7048b0f9-4ffd-43f7-aa68-095b0db0da5f');\n",
              "          const dataTable =\n",
              "            await google.colab.kernel.invokeFunction('convertToInteractive',\n",
              "                                                     [key], {});\n",
              "          if (!dataTable) return;\n",
              "\n",
              "          const docLinkHtml = 'Like what you see? Visit the ' +\n",
              "            '<a target=\"_blank\" href=https://colab.research.google.com/notebooks/data_table.ipynb>data table notebook</a>'\n",
              "            + ' to learn more about interactive tables.';\n",
              "          element.innerHTML = '';\n",
              "          dataTable['output_type'] = 'display_data';\n",
              "          await google.colab.output.renderOutput(dataTable, element);\n",
              "          const docLink = document.createElement('div');\n",
              "          docLink.innerHTML = docLinkHtml;\n",
              "          element.appendChild(docLink);\n",
              "        }\n",
              "      </script>\n",
              "    </div>\n",
              "  </div>\n",
              "  "
            ]
          },
          "metadata": {},
          "execution_count": 9
        }
      ],
      "source": [
        "bike_df = pd.read_csv('/content/drive/MyDrive/ybigta/0117/0117-ml/bike_train.csv')\n",
        "print(bike_df.shape)\n",
        "bike_df.head()"
      ]
    },
    {
      "cell_type": "code",
      "execution_count": 5,
      "metadata": {
        "colab": {
          "base_uri": "https://localhost:8080/"
        },
        "id": "b2Pd2r6XDAS9",
        "outputId": "f091c252-89d7-4aee-947c-24c59eab6d08"
      },
      "outputs": [
        {
          "output_type": "stream",
          "name": "stdout",
          "text": [
            "<class 'pandas.core.frame.DataFrame'>\n",
            "RangeIndex: 10886 entries, 0 to 10885\n",
            "Data columns (total 12 columns):\n",
            " #   Column      Non-Null Count  Dtype  \n",
            "---  ------      --------------  -----  \n",
            " 0   datetime    10886 non-null  object \n",
            " 1   season      10886 non-null  int64  \n",
            " 2   holiday     10886 non-null  int64  \n",
            " 3   workingday  10886 non-null  int64  \n",
            " 4   weather     10886 non-null  int64  \n",
            " 5   temp        10886 non-null  float64\n",
            " 6   atemp       10886 non-null  float64\n",
            " 7   humidity    10886 non-null  int64  \n",
            " 8   windspeed   10886 non-null  float64\n",
            " 9   casual      10886 non-null  int64  \n",
            " 10  registered  10886 non-null  int64  \n",
            " 11  count       10886 non-null  int64  \n",
            "dtypes: float64(3), int64(8), object(1)\n",
            "memory usage: 1020.7+ KB\n"
          ]
        }
      ],
      "source": [
        "bike_df.info()"
      ]
    },
    {
      "cell_type": "markdown",
      "metadata": {
        "id": "I8bGGDXyNeK9"
      },
      "source": [
        "# Feature Engineering"
      ]
    },
    {
      "cell_type": "markdown",
      "metadata": {
        "id": "YNrUOeG-Vv48"
      },
      "source": [
        "기본으로 주어진 FE이외에 추가로 진행하셔도 됩니다!"
      ]
    },
    {
      "cell_type": "code",
      "execution_count": 10,
      "metadata": {
        "colab": {
          "base_uri": "https://localhost:8080/",
          "height": 187
        },
        "id": "DhzZ9wxIEdis",
        "outputId": "510768f6-412e-41b1-d072-a761dc939d8f"
      },
      "outputs": [
        {
          "output_type": "execute_result",
          "data": {
            "text/plain": [
              "             datetime  season  holiday  workingday  weather  temp   atemp  \\\n",
              "0 2011-01-01 00:00:00       1        0           0        1  9.84  14.395   \n",
              "1 2011-01-01 01:00:00       1        0           0        1  9.02  13.635   \n",
              "2 2011-01-01 02:00:00       1        0           0        1  9.02  13.635   \n",
              "\n",
              "   humidity  windspeed  casual  registered  count  year  month  day  hour  \n",
              "0        81        0.0       3          13     16  2011      1    1     0  \n",
              "1        80        0.0       8          32     40  2011      1    1     1  \n",
              "2        80        0.0       5          27     32  2011      1    1     2  "
            ],
            "text/html": [
              "\n",
              "  <div id=\"df-f015106a-94e5-433f-882f-89027737feed\">\n",
              "    <div class=\"colab-df-container\">\n",
              "      <div>\n",
              "<style scoped>\n",
              "    .dataframe tbody tr th:only-of-type {\n",
              "        vertical-align: middle;\n",
              "    }\n",
              "\n",
              "    .dataframe tbody tr th {\n",
              "        vertical-align: top;\n",
              "    }\n",
              "\n",
              "    .dataframe thead th {\n",
              "        text-align: right;\n",
              "    }\n",
              "</style>\n",
              "<table border=\"1\" class=\"dataframe\">\n",
              "  <thead>\n",
              "    <tr style=\"text-align: right;\">\n",
              "      <th></th>\n",
              "      <th>datetime</th>\n",
              "      <th>season</th>\n",
              "      <th>holiday</th>\n",
              "      <th>workingday</th>\n",
              "      <th>weather</th>\n",
              "      <th>temp</th>\n",
              "      <th>atemp</th>\n",
              "      <th>humidity</th>\n",
              "      <th>windspeed</th>\n",
              "      <th>casual</th>\n",
              "      <th>registered</th>\n",
              "      <th>count</th>\n",
              "      <th>year</th>\n",
              "      <th>month</th>\n",
              "      <th>day</th>\n",
              "      <th>hour</th>\n",
              "    </tr>\n",
              "  </thead>\n",
              "  <tbody>\n",
              "    <tr>\n",
              "      <th>0</th>\n",
              "      <td>2011-01-01 00:00:00</td>\n",
              "      <td>1</td>\n",
              "      <td>0</td>\n",
              "      <td>0</td>\n",
              "      <td>1</td>\n",
              "      <td>9.84</td>\n",
              "      <td>14.395</td>\n",
              "      <td>81</td>\n",
              "      <td>0.0</td>\n",
              "      <td>3</td>\n",
              "      <td>13</td>\n",
              "      <td>16</td>\n",
              "      <td>2011</td>\n",
              "      <td>1</td>\n",
              "      <td>1</td>\n",
              "      <td>0</td>\n",
              "    </tr>\n",
              "    <tr>\n",
              "      <th>1</th>\n",
              "      <td>2011-01-01 01:00:00</td>\n",
              "      <td>1</td>\n",
              "      <td>0</td>\n",
              "      <td>0</td>\n",
              "      <td>1</td>\n",
              "      <td>9.02</td>\n",
              "      <td>13.635</td>\n",
              "      <td>80</td>\n",
              "      <td>0.0</td>\n",
              "      <td>8</td>\n",
              "      <td>32</td>\n",
              "      <td>40</td>\n",
              "      <td>2011</td>\n",
              "      <td>1</td>\n",
              "      <td>1</td>\n",
              "      <td>1</td>\n",
              "    </tr>\n",
              "    <tr>\n",
              "      <th>2</th>\n",
              "      <td>2011-01-01 02:00:00</td>\n",
              "      <td>1</td>\n",
              "      <td>0</td>\n",
              "      <td>0</td>\n",
              "      <td>1</td>\n",
              "      <td>9.02</td>\n",
              "      <td>13.635</td>\n",
              "      <td>80</td>\n",
              "      <td>0.0</td>\n",
              "      <td>5</td>\n",
              "      <td>27</td>\n",
              "      <td>32</td>\n",
              "      <td>2011</td>\n",
              "      <td>1</td>\n",
              "      <td>1</td>\n",
              "      <td>2</td>\n",
              "    </tr>\n",
              "  </tbody>\n",
              "</table>\n",
              "</div>\n",
              "      <button class=\"colab-df-convert\" onclick=\"convertToInteractive('df-f015106a-94e5-433f-882f-89027737feed')\"\n",
              "              title=\"Convert this dataframe to an interactive table.\"\n",
              "              style=\"display:none;\">\n",
              "        \n",
              "  <svg xmlns=\"http://www.w3.org/2000/svg\" height=\"24px\"viewBox=\"0 0 24 24\"\n",
              "       width=\"24px\">\n",
              "    <path d=\"M0 0h24v24H0V0z\" fill=\"none\"/>\n",
              "    <path d=\"M18.56 5.44l.94 2.06.94-2.06 2.06-.94-2.06-.94-.94-2.06-.94 2.06-2.06.94zm-11 1L8.5 8.5l.94-2.06 2.06-.94-2.06-.94L8.5 2.5l-.94 2.06-2.06.94zm10 10l.94 2.06.94-2.06 2.06-.94-2.06-.94-.94-2.06-.94 2.06-2.06.94z\"/><path d=\"M17.41 7.96l-1.37-1.37c-.4-.4-.92-.59-1.43-.59-.52 0-1.04.2-1.43.59L10.3 9.45l-7.72 7.72c-.78.78-.78 2.05 0 2.83L4 21.41c.39.39.9.59 1.41.59.51 0 1.02-.2 1.41-.59l7.78-7.78 2.81-2.81c.8-.78.8-2.07 0-2.86zM5.41 20L4 18.59l7.72-7.72 1.47 1.35L5.41 20z\"/>\n",
              "  </svg>\n",
              "      </button>\n",
              "      \n",
              "  <style>\n",
              "    .colab-df-container {\n",
              "      display:flex;\n",
              "      flex-wrap:wrap;\n",
              "      gap: 12px;\n",
              "    }\n",
              "\n",
              "    .colab-df-convert {\n",
              "      background-color: #E8F0FE;\n",
              "      border: none;\n",
              "      border-radius: 50%;\n",
              "      cursor: pointer;\n",
              "      display: none;\n",
              "      fill: #1967D2;\n",
              "      height: 32px;\n",
              "      padding: 0 0 0 0;\n",
              "      width: 32px;\n",
              "    }\n",
              "\n",
              "    .colab-df-convert:hover {\n",
              "      background-color: #E2EBFA;\n",
              "      box-shadow: 0px 1px 2px rgba(60, 64, 67, 0.3), 0px 1px 3px 1px rgba(60, 64, 67, 0.15);\n",
              "      fill: #174EA6;\n",
              "    }\n",
              "\n",
              "    [theme=dark] .colab-df-convert {\n",
              "      background-color: #3B4455;\n",
              "      fill: #D2E3FC;\n",
              "    }\n",
              "\n",
              "    [theme=dark] .colab-df-convert:hover {\n",
              "      background-color: #434B5C;\n",
              "      box-shadow: 0px 1px 3px 1px rgba(0, 0, 0, 0.15);\n",
              "      filter: drop-shadow(0px 1px 2px rgba(0, 0, 0, 0.3));\n",
              "      fill: #FFFFFF;\n",
              "    }\n",
              "  </style>\n",
              "\n",
              "      <script>\n",
              "        const buttonEl =\n",
              "          document.querySelector('#df-f015106a-94e5-433f-882f-89027737feed button.colab-df-convert');\n",
              "        buttonEl.style.display =\n",
              "          google.colab.kernel.accessAllowed ? 'block' : 'none';\n",
              "\n",
              "        async function convertToInteractive(key) {\n",
              "          const element = document.querySelector('#df-f015106a-94e5-433f-882f-89027737feed');\n",
              "          const dataTable =\n",
              "            await google.colab.kernel.invokeFunction('convertToInteractive',\n",
              "                                                     [key], {});\n",
              "          if (!dataTable) return;\n",
              "\n",
              "          const docLinkHtml = 'Like what you see? Visit the ' +\n",
              "            '<a target=\"_blank\" href=https://colab.research.google.com/notebooks/data_table.ipynb>data table notebook</a>'\n",
              "            + ' to learn more about interactive tables.';\n",
              "          element.innerHTML = '';\n",
              "          dataTable['output_type'] = 'display_data';\n",
              "          await google.colab.output.renderOutput(dataTable, element);\n",
              "          const docLink = document.createElement('div');\n",
              "          docLink.innerHTML = docLinkHtml;\n",
              "          element.appendChild(docLink);\n",
              "        }\n",
              "      </script>\n",
              "    </div>\n",
              "  </div>\n",
              "  "
            ]
          },
          "metadata": {},
          "execution_count": 10
        }
      ],
      "source": [
        "# 문자열을 datetime 타입으로 변경\n",
        "bike_df['datetime'] = bike_df.datetime.apply(pd.to_datetime)\n",
        "\n",
        "# datetime 타입에서 년, 월, 일, 시간 추출\n",
        "bike_df['year'] = bike_df.datetime.apply(lambda x : x.year)\n",
        "bike_df['month'] = bike_df.datetime.apply(lambda x : x.month)\n",
        "bike_df['day'] = bike_df.datetime.apply(lambda x : x.day)\n",
        "bike_df['hour'] = bike_df.datetime.apply(lambda x : x.hour)\n",
        "bike_df.head(3)"
      ]
    },
    {
      "cell_type": "code",
      "execution_count": 11,
      "metadata": {
        "id": "_Mdo2CQDFC3G"
      },
      "outputs": [],
      "source": [
        "drop_columns = ['datetime', 'casual', 'registered']\n",
        "bike_df.drop(drop_columns, axis=1, inplace=True)"
      ]
    },
    {
      "cell_type": "markdown",
      "metadata": {
        "id": "ZhR6nOxoNk5d"
      },
      "source": [
        "# 평가지표 설정"
      ]
    },
    {
      "cell_type": "markdown",
      "metadata": {
        "id": "JaklSzUlNn1S"
      },
      "source": [
        "캐글에서 요구한 성능 평가 방법은 RMSLE(Root Mean Square Log Error)입니다. 즉, 오류 값의 로그에 대한 RMSE 입니다. 사이킷런에서 직접 제공하는 함수가 없기 때문에 평가지표 함수를 만들고, 다른 평가 지표인 MSE, RMSE를 함께 모두 계산할 수 있는 함수도 추가로 만들었습니다."
      ]
    },
    {
      "cell_type": "code",
      "execution_count": 12,
      "metadata": {
        "id": "8LYqILUUHd8W"
      },
      "outputs": [],
      "source": [
        "from sklearn.metrics import mean_squared_error, mean_absolute_error\n",
        "\n",
        "# log 값 변환 시 NaN등의 이슈로 log() 가 아닌 log1p() 를 이용하여 RMSLE 계산\n",
        "# log1p() = 1 + log()\n",
        "# 이렇게 변환된 값은 다시 expm1()함수로 쉽게 원래 스케일로 복원 가능\n",
        "def rmsle(y, pred):\n",
        "    log_y = np.log1p(y)\n",
        "    log_pred = np.log1p(pred)\n",
        "    squared_error = (log_y - log_pred) ** 2\n",
        "    rmsle = np.sqrt(np.mean(squared_error))\n",
        "    return rmsle\n",
        "\n",
        "# 사이킷런의 mean_square_error() 를 이용하여 RMSE 계산\n",
        "def rmse(y,pred):\n",
        "    return np.sqrt(mean_squared_error(y,pred))\n",
        "\n",
        "# MSE, RMSE, RMSLE 를 모두 계산 \n",
        "def evaluate_regr(y,pred):\n",
        "    rmsle_val = rmsle(y,pred)\n",
        "    rmse_val = rmse(y,pred)\n",
        "    # MAE 는 scikit learn의 mean_absolute_error() 로 계산\n",
        "    mae_val = mean_absolute_error(y,pred)\n",
        "    print('RMSLE: {0:.3f}, RMSE: {1:.3F}, MAE: {2:.3F}'.format(rmsle_val, rmse_val, mae_val))"
      ]
    },
    {
      "cell_type": "markdown",
      "metadata": {
        "id": "DfjPCS5mOcPP"
      },
      "source": [
        "# 모델 학습/예측/평가"
      ]
    },
    {
      "cell_type": "code",
      "execution_count": 17,
      "metadata": {
        "colab": {
          "base_uri": "https://localhost:8080/",
          "height": 284
        },
        "id": "bQk8S5hePz2A",
        "outputId": "32895414-447c-494c-d431-6a0b4a3957da"
      },
      "outputs": [
        {
          "output_type": "execute_result",
          "data": {
            "text/plain": [
              "<matplotlib.axes._subplots.AxesSubplot at 0x7f37c399a5e0>"
            ]
          },
          "metadata": {},
          "execution_count": 17
        },
        {
          "output_type": "display_data",
          "data": {
            "text/plain": [
              "<Figure size 432x288 with 1 Axes>"
            ],
            "image/png": "[encoded data removed]"
          },
          "metadata": {
            "needs_background": "light"
          }
        }
      ],
      "source": [
        "from sklearn.model_selection import train_test_split , GridSearchCV\n",
        "from sklearn.linear_model import LinearRegression , Ridge , Lasso\n",
        "\n",
        "y_target = bike_df['count']\n",
        "X_features = bike_df.drop(['count'],axis=1,inplace=False)\n",
        "\n",
        "y_target.hist(bins=100)"
      ]
    },
    {
      "cell_type": "code",
      "execution_count": 18,
      "metadata": {
        "colab": {
          "base_uri": "https://localhost:8080/"
        },
        "id": "9Urg0mLYJeFd",
        "outputId": "ba1258b6-d75b-49b3-d66c-7ebd820fa253"
      },
      "outputs": [
        {
          "output_type": "stream",
          "name": "stdout",
          "text": [
            "RMSLE: 1.017, RMSE: 162.594, MAE: 109.286\n"
          ]
        }
      ],
      "source": [
        "# 타깃 칼럼인 count 값을 log1p로 로그 변환\n",
        "# 변환하는 이유는 count의 분포를 보게 되면 0~200 사이에 왜곡됨을 볼 수 있음.\n",
        "# 정규 분포 형태로 바꾸기 위해 로그를 적용하여 변환(정규성을 높여 정확한 결과를 얻기 위함)\n",
        "y_target_log = np.log1p(y_target)\n",
        "\n",
        "# 로그 변환된 y_target_log를 반영하여 학습/테스트 데이터 셋 분할\n",
        "X_train, X_test, y_train, y_test = train_test_split(X_features, y_target_log, test_size=0.3, random_state=0)\n",
        "lr_reg = LinearRegression()\n",
        "lr_reg.fit(X_train, y_train)\n",
        "pred = lr_reg.predict(X_test)\n",
        "\n",
        "# 테스트 데이터 셋의 Target 값은 Log 변환되었으므로 다시 expm1를 이용하여 원래 scale로 변환\n",
        "y_test_exp = np.expm1(y_test)\n",
        "\n",
        "# 예측 값 역시 Log 변환된 타깃 기반으로 학습되어 예측되었으므로 다시 exmpl으로 scale변환\n",
        "pred_exp = np.expm1(pred)\n",
        "\n",
        "evaluate_regr(y_test_exp ,pred_exp)\n"
      ]
    },
    {
      "cell_type": "markdown",
      "metadata": {
        "id": "OVkz8dQ0QGHR"
      },
      "source": [
        "각 feature에 대한 회귀 계숫값 시각화"
      ]
    },
    {
      "cell_type": "code",
      "execution_count": 19,
      "metadata": {
        "colab": {
          "base_uri": "https://localhost:8080/",
          "height": 265
        },
        "id": "5xnFjru7JrLN",
        "outputId": "612532cb-a5b0-4405-c568-17644b20afc8"
      },
      "outputs": [
        {
          "output_type": "display_data",
          "data": {
            "text/plain": [
              "<Figure size 432x288 with 1 Axes>"
            ],
            "image/png": "[encoded data removed]"
          },
          "metadata": {
            "needs_background": "light"
          }
        }
      ],
      "source": [
        "coef = pd.Series(lr_reg.coef_, index=X_features.columns)\n",
        "coef_sort = coef.sort_values(ascending=False)\n",
        "sns.barplot(x=coef_sort.values, y=coef_sort.index)\n",
        "plt.savefig('log_transform.tif', format='tif', dpi=300, bbox_inches='tight')"
      ]
    },
    {
      "cell_type": "markdown",
      "metadata": {
        "id": "NxAEjK0yQSg4"
      },
      "source": [
        "# one-hot encoding"
      ]
    },
    {
      "cell_type": "code",
      "execution_count": 20,
      "metadata": {
        "id": "MAWTrb2gJskN"
      },
      "outputs": [],
      "source": [
        "# 'year', month', 'day', hour'등의 피처들을 One Hot Encoding\n",
        "X_features_ohe = pd.get_dummies(X_features, columns=['year', 'month','day', 'hour', 'holiday',\n",
        "                                              'workingday','season','weather'])"
      ]
    },
    {
      "cell_type": "markdown",
      "metadata": {
        "id": "shk4peZpQfEZ"
      },
      "source": [
        "# one-hot encoding 후 다시 성능 평가"
      ]
    },
    {
      "cell_type": "markdown",
      "metadata": {
        "id": "aaL_NjjBRHDd"
      },
      "source": [
        "성능 평가를 위한 함수 생성"
      ]
    },
    {
      "cell_type": "code",
      "execution_count": 21,
      "metadata": {
        "id": "PSSkImkdQ6oB"
      },
      "outputs": [],
      "source": [
        "# 모델과 학습/테스트 데이터 셋을 입력하면 성능 평가 수치를 반환\n",
        "def get_model_predict(model, X_train, X_test, y_train, y_test, is_expm1=False):\n",
        "    model.fit(X_train, y_train)\n",
        "    pred = model.predict(X_test)\n",
        "    if is_expm1 :\n",
        "        y_test = np.expm1(y_test)\n",
        "        pred = np.expm1(pred)\n",
        "    print('###',model.__class__.__name__,'###')\n",
        "    evaluate_regr(y_test, pred)"
      ]
    },
    {
      "cell_type": "markdown",
      "metadata": {
        "id": "aCMVUFPcRJsZ"
      },
      "source": [
        "성능 평가 진행"
      ]
    },
    {
      "cell_type": "code",
      "execution_count": 22,
      "metadata": {
        "colab": {
          "base_uri": "https://localhost:8080/"
        },
        "id": "sjJKKpQ9Q1nB",
        "outputId": "e2f12e44-ff96-4e60-eaed-d402fedce558"
      },
      "outputs": [
        {
          "output_type": "stream",
          "name": "stdout",
          "text": [
            "### LinearRegression ###\n",
            "RMSLE: 0.590, RMSE: 97.688, MAE: 63.382\n",
            "### Ridge ###\n",
            "RMSLE: 0.590, RMSE: 98.529, MAE: 63.893\n",
            "### Lasso ###\n",
            "RMSLE: 0.635, RMSE: 113.219, MAE: 72.803\n"
          ]
        }
      ],
      "source": [
        "# 원-핫 인코딩이 적용된 feature 데이터 세트 기반으로 학습/예측 데이터 분할. \n",
        "X_train, X_test, y_train, y_test = train_test_split(X_features_ohe, y_target_log,\n",
        "                                                    test_size=0.3, random_state=0)\n",
        "\n",
        "# model 별로 평가 수행\n",
        "lr_reg = LinearRegression()\n",
        "ridge_reg = Ridge(alpha=10)\n",
        "lasso_reg = Lasso(alpha=0.01)\n",
        "\n",
        "for model in [lr_reg, ridge_reg, lasso_reg]:\n",
        "    get_model_predict(model,X_train, X_test, y_train, y_test,is_expm1=True)"
      ]
    },
    {
      "cell_type": "markdown",
      "metadata": {
        "id": "28V5QQ5iRNFJ"
      },
      "source": [
        "회귀 계수 확인"
      ]
    },
    {
      "cell_type": "code",
      "execution_count": 23,
      "metadata": {
        "colab": {
          "base_uri": "https://localhost:8080/",
          "height": 297
        },
        "id": "L8NbbUQmJv4d",
        "outputId": "b21612a5-9b77-4d41-f75a-4479f24775f4"
      },
      "outputs": [
        {
          "output_type": "execute_result",
          "data": {
            "text/plain": [
              "<matplotlib.axes._subplots.AxesSubplot at 0x7f37beed45e0>"
            ]
          },
          "metadata": {},
          "execution_count": 23
        },
        {
          "output_type": "display_data",
          "data": {
            "text/plain": [
              "<Figure size 432x288 with 1 Axes>"
            ],
            "image/png": "[encoded data removed]"
          },
          "metadata": {
            "needs_background": "light"
          }
        }
      ],
      "source": [
        "coef = pd.Series(lr_reg.coef_ , index=X_features_ohe.columns)\n",
        "coef_sort = coef.sort_values(ascending=False)[:20]\n",
        "sns.barplot(x=coef_sort.values , y=coef_sort.index)"
      ]
    },
    {
      "cell_type": "markdown",
      "metadata": {
        "id": "b15fguKtRTif"
      },
      "source": [
        "one-hot encoding을 통해 성능도 올라갔고, featrue 들의 영향도도 달라졌음을 알 수 있다. 항상 one-hot encoding이 성능을 올린다고 할 수는 없지만 선형 회귀의 경우 중요 카테고리성 feature들은 one-hot encoding을 하는 것이 중요한 영향을 미칠 수 있다."
      ]
    },
    {
      "cell_type": "markdown",
      "metadata": {
        "id": "L64YAgtFRzfR"
      },
      "source": [
        "# 다양한 모델을 통한 실험"
      ]
    },
    {
      "cell_type": "code",
      "execution_count": 24,
      "metadata": {
        "id": "RVhBfpDnJxqu"
      },
      "outputs": [],
      "source": [
        "from sklearn.ensemble import RandomForestRegressor, GradientBoostingRegressor\n",
        "from xgboost import XGBRegressor\n",
        "from lightgbm import LGBMRegressor\n",
        "\n",
        "# 랜덤 포레스트, GBM, XGBoost, LightGBM model 별로 평가 수행\n",
        "# n_estimators를 변경할 수 있습니다. \n",
        "# 구글링을 통해 모델별로 추가 parameter 튜닝하셔도 됩니다.\n",
        "rf_reg = RandomForestRegressor(n_estimators=200)\n",
        "gbm_reg = GradientBoostingRegressor(n_estimators=200)\n",
        "xgb_reg = XGBRegressor(n_estimators=200)\n",
        "lgbm_reg = LGBMRegressor(n_estimators=200)"
      ]
    },
    {
      "cell_type": "code",
      "execution_count": 25,
      "metadata": {
        "colab": {
          "base_uri": "https://localhost:8080/"
        },
        "id": "U6jyaL35SP4q",
        "outputId": "6395fcfa-b5ea-4842-85c6-d410d1ad85c1"
      },
      "outputs": [
        {
          "output_type": "stream",
          "name": "stdout",
          "text": [
            "### RandomForestRegressor ###\n",
            "RMSLE: 0.355, RMSE: 50.729, MAE: 31.319\n"
          ]
        }
      ],
      "source": [
        "model = rf_reg  # 변경 가능\n",
        "\n",
        "get_model_predict(model,X_train.values, X_test.values, y_train.values, y_test.values,is_expm1=True)\n",
        " "
      ]
    },
    {
      "cell_type": "markdown",
      "metadata": {
        "id": "efMnS6ShUyJd"
      },
      "source": [
        "### 두 모델을 혼합하여 계산"
      ]
    },
    {
      "cell_type": "markdown",
      "metadata": {
        "id": "rYAqZCmpU8D6"
      },
      "source": [
        "여러 모델의 결과를 받고 가중치에 따른 계산을 하는 방법입니다. (단일 모델에서 가장 성능이 좋은 두 모델을 결합하였는데 더 좋지 않은 성능을 보일 수도 있습니다.)"
      ]
    },
    {
      "cell_type": "code",
      "execution_count": 26,
      "metadata": {
        "id": "foCZLQ9fSnvH"
      },
      "outputs": [],
      "source": [
        "# 모델과 학습/테스트 데이터 셋을 입력하면 성능 평가 수치를 반환\n",
        "def get_two_models_predict(model1,model2, X_train, X_test, y_train, y_test, is_expm1=False):\n",
        "    model1.fit(X_train, y_train)\n",
        "    model1_pred = model1.predict(X_test)\n",
        "    model2.fit(X_train, y_train)\n",
        "    model2_pred = model2.predict(X_test)\n",
        "    \n",
        "    pred = 0.4*model1_pred + 0.6*model2_pred # 가중치 변경 가능!\n",
        "\n",
        "    if is_expm1 :\n",
        "        y_test = np.expm1(y_test)\n",
        "        pred = np.expm1(pred)\n",
        "    print('### Two Models ###')\n",
        "    evaluate_regr(y_test, pred)"
      ]
    },
    {
      "cell_type": "code",
      "execution_count": 27,
      "metadata": {
        "colab": {
          "base_uri": "https://localhost:8080/"
        },
        "id": "ybfNNZkYJzZO",
        "outputId": "1ee39933-0112-444a-ea72-c2e7fa2dd832"
      },
      "outputs": [
        {
          "output_type": "stream",
          "name": "stdout",
          "text": [
            "### Two Models ###\n",
            "RMSLE: 0.368, RMSE: 61.463, MAE: 38.170\n"
          ]
        }
      ],
      "source": [
        "model1 = rf_reg  # 변경 가능\n",
        "model2 = gbm_reg  # 변경 가능\n",
        "\n",
        "get_two_models_predict(model1,model2,X_train.values, X_test.values, y_train.values, y_test.values,is_expm1=True)\n",
        " "
      ]
    },
    {
      "cell_type": "markdown",
      "metadata": {
        "id": "v7KMDIe-UJuI"
      },
      "source": [
        "# 과제"
      ]
    },
    {
      "cell_type": "markdown",
      "source": [
        "Standard scaling the 'temp', 'atemp', 'humidity' values. "
      ],
      "metadata": {
        "id": "w6V4_Ym-DsDi"
      }
    },
    {
      "cell_type": "code",
      "source": [
        "from sklearn.preprocessing import StandardScaler\n",
        "sd_scaler = StandardScaler()"
      ],
      "metadata": {
        "id": "gbglbn3_AX-m"
      },
      "execution_count": 94,
      "outputs": []
    },
    {
      "cell_type": "code",
      "source": [
        "X_features_scale = X_features_ohe\n",
        "temparr = X_features_scale[['temp', 'atemp', 'humidity']].values\n",
        "X_features_scale[['temp', 'atemp', 'humidity']] = sd_scaler.fit_transform(temparr)"
      ],
      "metadata": {
        "id": "i66rPNWiAcgD"
      },
      "execution_count": 95,
      "outputs": []
    },
    {
      "cell_type": "code",
      "source": [
        "X_train, X_test, y_train, y_test = train_test_split(X_features_scale, y_target_log,\n",
        "                                                    test_size=0.3, random_state=0)"
      ],
      "metadata": {
        "id": "axUxuBc6Bayc"
      },
      "execution_count": 96,
      "outputs": []
    },
    {
      "cell_type": "code",
      "source": [
        "model = lgbm_reg\n",
        "get_model_predict(model,X_train.values, X_test.values, y_train.values, y_test.values,is_expm1=True)"
      ],
      "metadata": {
        "colab": {
          "base_uri": "https://localhost:8080/"
        },
        "id": "2w41fOW9677F",
        "outputId": "583eb5f3-cf3a-41cf-e098-9bca0b28c5c1"
      },
      "execution_count": 97,
      "outputs": [
        {
          "output_type": "stream",
          "name": "stdout",
          "text": [
            "### LGBMRegressor ###\n",
            "RMSLE: 0.321, RMSE: 48.444, MAE: 29.848\n"
          ]
        }
      ]
    },
    {
      "cell_type": "markdown",
      "source": [
        "LightGBM의 성능이 4개 모델 중 제일 좋게 나왔으나 아직 0.32 이하는 달성 못함. Accuracy를 높이기 위해 n_estimators를 400으로 올리고, learning_rate를 default인 0.1에서 0.08로 바꾸고, num_leaves를 40으로 올렸다."
      ],
      "metadata": {
        "id": "5yQ5A6k89Qeu"
      }
    },
    {
      "cell_type": "code",
      "source": [
        "lgbm_reg = LGBMRegressor(n_estimators=400, learning_rate=0.08, num_leaves=40)"
      ],
      "metadata": {
        "id": "PJsf5jVo9Lp-"
      },
      "execution_count": 115,
      "outputs": []
    },
    {
      "cell_type": "code",
      "source": [
        "model = lgbm_reg\n",
        "get_model_predict(model,X_train.values, X_test.values, y_train.values, y_test.values,is_expm1=True)"
      ],
      "metadata": {
        "colab": {
          "base_uri": "https://localhost:8080/"
        },
        "id": "7ZNwdPoQ-K8S",
        "outputId": "46f8a14c-dcb0-49dd-81b3-344f3563c399"
      },
      "execution_count": 117,
      "outputs": [
        {
          "output_type": "stream",
          "name": "stdout",
          "text": [
            "### LGBMRegressor ###\n",
            "RMSLE: 0.314, RMSE: 46.272, MAE: 28.561\n"
          ]
        }
      ]
    },
    {
      "cell_type": "markdown",
      "metadata": {
        "id": "EE6StLU3UPkm"
      },
      "source": [
        "자유롭게 FE를 진행하시고 모델 튜닝 및 모델 선택을 진행하여서 RMSLE가 0.32 이하가 나온 것을 캡쳐해서 아래에 업로드 해주시면 됩니다. (0.32 이하가 나오지 않아도 노력한 흔적이 있으면 되기 때문에 해당 결과를 올리셔도 됩니다.)\n",
        "\n",
        "\n",
        "(해당 결과는 train dataset에서 나눈 data set을 test data로 만든 것이기 때문에 실제 test 결과와는 다릅니다. 즉, 캐글 점수와는 다를 것입니다.)"
      ]
    },
    {
      "cell_type": "markdown",
      "metadata": {
        "id": "xr6VObtLWIjt"
      },
      "source": [
        "![succeed.jpg](data:image/jpeg;base64,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)이미지 제출"
      ]
    }
  ],
  "metadata": {
    "colab": {
      "provenance": []
    },
    "kernelspec": {
      "display_name": "ybenv",
      "language": "python",
      "name": "python3"
    },
    "language_info": {
      "codemirror_mode": {
        "name": "ipython",
        "version": 3
      },
      "file_extension": ".py",
      "mimetype": "text/x-python",
      "name": "python",
      "nbconvert_exporter": "python",
      "pygments_lexer": "ipython3",
      "version": "3.9.16"
    },
    "vscode": {
      "interpreter": {
        "hash": "ddd9fde2ef4473a3d5ee443b43f170668aef93389f8aa79f8002f36d9b11b55b"
      }
    }
  },
  "nbformat": 4,
  "nbformat_minor": 0
}