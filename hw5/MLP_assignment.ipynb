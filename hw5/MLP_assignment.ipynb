{
  "cells": [
    {
      "cell_type": "code",
      "execution_count": 3,
      "metadata": {
        "colab": {
          "base_uri": "https://localhost:8080/"
        },
        "id": "w75BJHj6qukF",
        "outputId": "d39cc56e-3d7a-4ed6-bd9d-a978b6f36cf0"
      },
      "outputs": [
        {
          "output_type": "stream",
          "name": "stdout",
          "text": [
            "Drive already mounted at /content/drive; to attempt to forcibly remount, call drive.mount(\"/content/drive\", force_remount=True).\n"
          ]
        }
      ],
      "source": [
        "from google.colab import drive\n",
        "drive.mount('/content/drive')"
      ]
    },
    {
      "cell_type": "markdown",
      "metadata": {
        "id": "GePgZBGeHKhB"
      },
      "source": [
        "#Assignment 1"
      ]
    },
    {
      "cell_type": "markdown",
      "metadata": {
        "id": "KenFYB_0nvlO"
      },
      "source": [
        "# Import packages\n",
        "---"
      ]
    },
    {
      "cell_type": "code",
      "execution_count": 4,
      "metadata": {
        "id": "sRTTu9VPiQ2f"
      },
      "outputs": [],
      "source": [
        "'''\n",
        "import modules\n",
        "  - Basic tool\n",
        "  - DL tool\n",
        "  - OS tool\n",
        "'''\n",
        "# Basic tools\n",
        "import numpy as np\n",
        "import pandas as pd\n",
        "import matplotlib.pyplot as plt\n",
        "\n",
        "# DL tools\n",
        "import torch \n",
        "import torch.nn as nn\n",
        "import torch.nn.functional as F\n",
        "from sklearn.model_selection import train_test_split\n",
        "import tensorflow as tf\n",
        "from tensorflow import keras\n",
        "from tensorflow.keras.utils import to_categorical\n",
        "\n",
        "# OS tool\n",
        "import os"
      ]
    },
    {
      "cell_type": "markdown",
      "metadata": {
        "id": "k4xKgk9Xosgh"
      },
      "source": [
        "# Device Setting\n",
        "---"
      ]
    },
    {
      "cell_type": "code",
      "execution_count": 5,
      "metadata": {
        "colab": {
          "base_uri": "https://localhost:8080/"
        },
        "id": "FhqicXF8oFDF",
        "outputId": "d5b2ba62-01c0-4c6a-d745-d844f92856b1"
      },
      "outputs": [
        {
          "output_type": "stream",
          "name": "stdout",
          "text": [
            "cnn.txt\t\tCNN_교육세션.pdf  MLP_과제.pdf\t\t   MNIST_MLP.ipynb\n",
            "CNN_과제.ipynb\tCNN_실습.ipynb\t  MLP\\ 발제\\ (이영환).pdf\n",
            "device: cpu\n"
          ]
        }
      ],
      "source": [
        "'''\n",
        "  Setting \n",
        "    - Path setting to the current directory\n",
        "    - GPU device setting (device: cuda)\n",
        "'''\n",
        "# Show all columns for the dataframe\n",
        "pd.set_option('display.max_columns', None)\n",
        "\n",
        "# Path\n",
        "my_PATH = \"/content/drive/MyDrive/ybigta/0119/0119\"\n",
        "os.chdir(my_PATH)\n",
        "# show file list in the current directory\n",
        "!dir\n",
        "\n",
        "'''\n",
        " (!!!!!!!!!!!!!!중요!!!!!!!!!!!!!!!!)\n",
        " GPU 설정을 해줘야 더 효율적인 학습이 가능합니다.\n",
        " \"device: cuda\"로 출력되면 Good!\n",
        " \"device: cpu\"일 경우 현재 코랩에서'런타임 → 런타임 유형 변경 → GPU' 설정을 해줍시다.\n",
        " 코랩이 기본제공하는 GPU는 하루 최대 12시간 사용 가능합니다. 런타임이 연결되는 동안 시간이 차감됩니다.\n",
        " 만약 코랩이 기본제공하는 GPU를 다 썼다면 약 하루를 기다리거나 다른 구글계정을 이용해야합니다. \n",
        "'''\n",
        "# Device setting & configuration\n",
        "# cuda가 available하면 cuda(GPU)로 아니면 CPU 연결\n",
        "if torch.cuda.is_available():\n",
        "    device = torch.device('cuda')\n",
        "else:\n",
        "    device = torch.device('cpu')\n",
        "\n",
        "print('device:', device)"
      ]
    },
    {
      "cell_type": "markdown",
      "metadata": {
        "id": "Vek_Cdd6ocmE"
      },
      "source": [
        "# Data Load\n",
        "---"
      ]
    },
    {
      "cell_type": "code",
      "execution_count": null,
      "metadata": {
        "colab": {
          "base_uri": "https://localhost:8080/"
        },
        "id": "kHTK06rSiY8V",
        "outputId": "fff4996f-4e17-48c4-df34-b333c87c486f"
      },
      "outputs": [
        {
          "name": "stdout",
          "output_type": "stream",
          "text": [
            "Downloading data from https://storage.googleapis.com/tensorflow/tf-keras-datasets/mnist.npz\n",
            "11490434/11490434 [==============================] - 0s 0us/step\n",
            "Train 데이터 크기: ((48000, 28, 28), (48000,))\n",
            "Validation 데이터 크기: ((12000, 28, 28), (12000,))\n",
            "Test 데이터 크기:((10000, 28, 28), (10000,))\n"
          ]
        }
      ],
      "source": [
        "'''\n",
        "  Load MNIST Data\n",
        "    - Train & &Validation & Test data \n",
        "    - Image and Label\n",
        "    - Min-Max scaling\n",
        "'''\n",
        "# Loading the data\n",
        "(x_train, y_train), (x_test, y_test) = tf.keras.datasets.mnist.load_data()\n",
        "\n",
        "# Min-Max scaling\n",
        "x_train = x_train/255.0\n",
        "x_test = x_test/255.0\n",
        "\n",
        "'''\n",
        " train_test_split은 sklearn으로 import한 모듈입니다.\n",
        " train_test_split을 통해 쉽게 데이터를 분리할 수 있습니다.\n",
        " 이 코드는 train데이터를 0.8 : 0.2로 train과 validation 데이터로 분리하는 코드입니다,\n",
        " print 결과 Train 데이터는 28x28 사이즈의 이미지 데이터가 48,000장 있으며 이미지에 대응하는 label이 48,000개 존재함을 알 수 있습니다.  \n",
        "'''\n",
        "# Split train data into Train/Validation data\n",
        "x_train, x_val, y_train, y_val = train_test_split(x_train, y_train, test_size = 0.2, shuffle=True)\n",
        "\n",
        "# Check data shape\n",
        "print(f\"Train 데이터 크기: {x_train.shape, y_train.shape}\")\n",
        "print(f\"Validation 데이터 크기: {x_val.shape, y_val.shape}\")\n",
        "print(f\"Test 데이터 크기:{x_test.shape, y_test.shape}\")\n"
      ]
    },
    {
      "cell_type": "code",
      "execution_count": null,
      "metadata": {
        "colab": {
          "base_uri": "https://localhost:8080/",
          "height": 283
        },
        "id": "SgsWDp8DimYz",
        "outputId": "14e02430-0cd1-48e6-db98-964b6ba9c944"
      },
      "outputs": [
        {
          "name": "stdout",
          "output_type": "stream",
          "text": [
            "첫번째 이미지 라벨: 6 \n",
            "두번째 이미지 라벨: 9 \n"
          ]
        },
        {
          "data": {
            "image/png": "[encoded data removed]",
            "text/plain": [
              "<Figure size 1296x576 with 2 Axes>"
            ]
          },
          "metadata": {},
          "output_type": "display_data"
        }
      ],
      "source": [
        "# Check\n",
        "fig = plt.figure(figsize=(18,8))\n",
        "ax1 = fig.add_subplot(211)\n",
        "img1 = plt.imshow(x_train[0].reshape(28, 28)).set_cmap('Greys')\n",
        "ax2 = fig.add_subplot(222)\n",
        "img2 = plt.imshow(x_train[1].reshape(28, 28)).set_cmap('Greys')\n",
        "print(f\"첫번째 이미지 라벨: {y_train[0]} \")\n",
        "print(f\"두번째 이미지 라벨: {y_train[1]} \")"
      ]
    },
    {
      "cell_type": "code",
      "execution_count": null,
      "metadata": {
        "id": "hYk7WJbiint1"
      },
      "outputs": [],
      "source": [
        "'''\n",
        "  Data Preparation\n",
        "    - No augmentation\n",
        "    - Min-Max scaling (already done at the first)    \n",
        "    - Label(target) -> One hot encoding\n",
        "    \n",
        "    MyDataset은 현재 데이터 set에 다음 속성들을 부여합니다.\n",
        "    Pytorch의 DataLoader를 활용하기 위해 필요합니다.\n",
        "'''\n",
        "\n",
        "class Mydataset(torch.utils.data.Dataset):\n",
        "\n",
        "    # 데이터 전처리 \n",
        "    def __init__(self, dataX_np , dataY_np):\n",
        "        self.data_X = dataX_np.astype(np.float32)\n",
        "        self.data_Y = dataY_np.astype(np.float32) \n",
        "\n",
        "        print(f\"My_dataset __init__ received : {self.data_X.shape}, {self.data_Y.shape} \")\n",
        "\n",
        "    # 인덱스를 입력받아 인덱스에 알맞는 입출력 데이터를 Return\n",
        "    def __getitem__(self, index):\n",
        "        image = self.data_X[index]\n",
        "        label = self.data_Y[index]\n",
        "        # One hot encoding\n",
        "        # 0~9 숫자로 되어있는 라벨을 one hot encoding 형식으로 변환합니다. 이는 이후 MLP의 출력이 10차원이기에 Loss를 계산하기 위해 진행하였습니다.  \n",
        "        label = to_categorical(label, num_classes = 10)\n",
        "\n",
        "        return image, label\n",
        "    \n",
        "    # 총 데이터 개수를 Return\n",
        "    def __len__(self):\n",
        "        return len(self.data_X)"
      ]
    },
    {
      "cell_type": "code",
      "execution_count": null,
      "metadata": {
        "colab": {
          "base_uri": "https://localhost:8080/"
        },
        "id": "D3eHRHz0ixFl",
        "outputId": "aa28c272-f1db-4cb1-a358-2cb4284583f2"
      },
      "outputs": [
        {
          "name": "stdout",
          "output_type": "stream",
          "text": [
            "My_dataset __init__ received : (48000, 784), (48000,) \n",
            "My_dataset __init__ received : (12000, 784), (12000,) \n",
            "My_dataset __init__ received : (10000, 784), (10000,) \n"
          ]
        }
      ],
      "source": [
        "'''\n",
        " DataLoader는 데이터를 batch_size에 맞게 나눠주거나 shuffle해 주는 등의 기능을 지원합니다.\n",
        " DataLoader는 데이터를 index로 접근가능하도록 하고 for문에서 사용할 수 있는 iterable 객체로 감싸줍니다.\n",
        "\n",
        " batch_size 변수는 train 데이터의 batch 크기를 결정합니다.\n",
        " batch_size를 1로 할 경우 SGD가 되며 (모든 데이터의 배치크기가 1이므로 배치 = 하나의 데이터 이기 떄문입니다)\n",
        " batch_size를 현재 데이터의 수보다 같거나 크게 할 경우 BGD가 됩니다. (배치하나가 모든 데이터를 포함하기 때문입니다.)\n",
        " 현재 batch_size를 32로 설정하였기에 48000//32 = 1500. 1500개의 배치가 생성되며 배치 한개당 32개의 이미지데이터와 라벨데이터가 존재합니다.\n",
        " drop_last = False로 설정하여 배치로 나눴을 떄 32개가 채워지지 못하는 마지막 배치를 그대로 살리도록 하였습니다.\n",
        " \n",
        " train_loader의 경우 batch_size=32로 설정하여 Mini-batch Gradient Descent를 사용하도록 하였습니다. \n",
        " valid_lodaer와 test_loader의 batch_size를 데이터의 수보다 크게하여 모든 데이터에 대한 Loss와 Accuracy가 구해질 수 있도록 하였습니다.\n",
        "\n",
        " x_train, x_val, x_test 모두 (-1,28*28)로 reshape하였습니다. 즉, 28x28의 크기로 이뤄진 이미지 데이터를 28*28 = 784 차원의 벡터로 Flatten하였습니다. 이미지 데이터를 일자로 폈다고 생각하시면 됩니다.\n",
        " 따라서 MLP 모델에 입력되는 데이터는 784차원의 벡터입니다.\n",
        "'''\n",
        "\n",
        "batch_size = 32\n",
        "train_loader = torch.utils.data.DataLoader(Mydataset(x_train.reshape(-1,28*28), y_train), batch_size=batch_size, shuffle=False, drop_last = False)\n",
        "valid_loader = torch.utils.data.DataLoader(Mydataset(x_val.reshape(-1,28*28), y_val), batch_size = 1000000000, shuffle=False, drop_last = False)\n",
        "test_loader = torch.utils.data.DataLoader(Mydataset(x_test.reshape(-1,28*28), y_test), batch_size = 100000000, shuffle=False, drop_last = False)"
      ]
    },
    {
      "cell_type": "markdown",
      "metadata": {
        "id": "HbBLZjwNRs3a"
      },
      "source": [
        "# MLP Model\n",
        "---"
      ]
    },
    {
      "cell_type": "code",
      "execution_count": null,
      "metadata": {
        "id": "gxloDOf49T2g"
      },
      "outputs": [],
      "source": [
        "'''\n",
        "  MLP 모델을 정의하는 Class 입니다.\n",
        "\n",
        "  self.fc1 에서 fc1은 layer의 이름이며 fc1을 nn.Linear(input_dimension, output_dimension, bias=False)로 정의 할 수 있습니다.\n",
        "  즉 fc1은 784차원의 input을 wx+b의 Linear 함수를 적용하여 2048차원으로 보냅니다\n",
        "\n",
        "'''\n",
        "class MLP_(nn.Module):\n",
        "    def __init__(self):\n",
        "        super(MLP_, self).__init__()\n",
        "        self.fc1 = nn.Linear(784, 512)\n",
        "        self.fc2 = nn.Linear(512, 256)\n",
        "        self.fc3 = nn.Linear(256, 10)\n",
        "\n",
        "        torch.nn.init.kaiming_normal_(self.fc1.weight.data, nonlinearity= 'relu')\n",
        "        torch.nn.init.kaiming_normal_(self.fc2.weight.data, nonlinearity= 'relu')\n",
        "        torch.nn.init.kaiming_normal_(self.fc3.weight.data, nonlinearity= 'relu')\n",
        "       \n",
        "\n",
        "    def forward(self, x):\n",
        "        x = self.fc1(x)\n",
        "        x = F.relu(x)\n",
        "        x = self.fc2(x)\n",
        "        x = F.relu(x) \n",
        "        x = self.fc3(x)\n",
        "        \n",
        "\n",
        "        return x"
      ]
    },
    {
      "cell_type": "markdown",
      "metadata": {
        "id": "RadXUxDNR4JZ"
      },
      "source": [
        "# Train\n",
        "---"
      ]
    },
    {
      "cell_type": "code",
      "execution_count": null,
      "metadata": {
        "id": "ZgoDO9pgk0eu"
      },
      "outputs": [],
      "source": [
        "from statistics import mean \n",
        "import time\n",
        "\n",
        "'''\n",
        " 모델의 학습을 정의하는 함수입니다.\n",
        " model, Lossfunction, Optimizer, Scheduler 등을 입력받습니다.\n",
        " 출력은 train, valdation, test의 loss 리스트로 하였습니다.\n",
        " train함수를 사용하면 입력받은 loss와 optimizer, lr scheduler, num_epoch에 따라 model을 학습시킵니다.\n",
        "'''\n",
        "\n",
        "def train(model, criterion_, optimizer_, scheduler_, num_epochs=40, first_epoch=1):\n",
        "    \n",
        "    train_losses = []\n",
        "    valid_losses = []\n",
        "    test_losses = []\n",
        "\n",
        "    print(\"----------------------------------------------------------------------------\")\n",
        "\n",
        "    start_time = time.time()\n",
        "    for epoch in range(first_epoch, first_epoch + num_epochs):\n",
        "        # train phase\n",
        "        model.train()\n",
        "        \n",
        "        # batch_loss \n",
        "        batch_losses = []\n",
        "\n",
        "        for images, labels in train_loader:\n",
        "            \n",
        "            # Move the training data to the GPU\n",
        "            images = images.to(device)   \n",
        "            labels = labels.to(device)\n",
        "\n",
        "            # clear previous gradient computation\n",
        "            optimizer_.zero_grad()\n",
        "\n",
        "            # forward propagation\n",
        "            outputs = model(images)\n",
        "\n",
        "            # calculate the loss\n",
        "            loss = criterion_.forward(outputs, labels)\n",
        "            batch_losses.append(loss.item())\n",
        "\n",
        "            # backpropagate to compute gradients\n",
        "            loss.backward()\n",
        "\n",
        "            # update model weights\n",
        "            optimizer_.step()\n",
        "\n",
        "        # Train loss를 저장합니다.\n",
        "        train_losses.append(mean(batch_losses))\n",
        "\n",
        "        # validation phase\n",
        "        # Dropout, BatchNormalization과 같은 layer가 동작하지 않도록 합니다.\n",
        "        model.eval()\n",
        "\n",
        "        # We don't need gradients for test, so wrap in \n",
        "        # no_grad to save memory\n",
        "        # 기울기 Gradient를 계산하지 않으며 backpropagation을 하지 않습니다. \n",
        "        with torch.no_grad():\n",
        "            \n",
        "            correct_test = 0\n",
        "\n",
        "            for images, labels in valid_loader:\n",
        "\n",
        "                # Move the training batch to the GPU\n",
        "                images = images.to(device)\n",
        "                labels = labels.to(device)\n",
        "\n",
        "                # forward propagation\n",
        "                outputs = model(images)\n",
        "\n",
        "                # calculate the loss\n",
        "                loss = criterion_(outputs, labels)\n",
        "                valid_losses.append(loss.item())\n",
        "\n",
        "            for images, labels in test_loader:\n",
        "                # Move the training batch to the GPU\n",
        "                images = images.to(device)\n",
        "                labels = labels.to(device)\n",
        "\n",
        "                # forward propagation\n",
        "                outputs = model(images)\n",
        "\n",
        "                # calculate the loss\n",
        "                loss = criterion_(outputs, labels)\n",
        "                test_losses.append(loss.item())\n",
        "\n",
        "                # Check Accuracy\n",
        "                # preds 는 output 중에서 가장 높은 값의 index를 가집니다. \n",
        "                _, preds = torch.max(outputs, 1)\n",
        "\n",
        "                # label이 현재 one hot encoding 형태로 되어있기에 preds를 index로 받아 1인지 확인합니다. \n",
        "                # ex) 숫자 2 : label = [0,0,1,0,0,...,0] , label[i][preds] == 1 -> 정답\n",
        "                for i in range(len(preds)):\n",
        "                  if labels[i][preds[i]] == 1:\n",
        "                    correct_test +=1\n",
        "        \n",
        "        # 원하는 Epoch마다 결과 출력 \n",
        "        if (epoch) % 1== 0 :\n",
        "            curr_time = round(time.time()-start_time)\n",
        "            train_rec = round(train_losses[-1],5)\n",
        "            valid_rec = round(valid_losses[-1],5)\n",
        "            test_rec = round(test_losses[-1],5)\n",
        "            test_acc = round(100*(correct_test)/len(labels),3)\n",
        "            print('Epoch', epoch, ' / ',num_epochs)\n",
        "            print(f\"\\t [Train loss : {train_rec}]  [Validation loss : {valid_rec}] [Test loss : {test_rec}], [Test Accuracy : {test_acc}%],[curr LR = {scheduler_.get_last_lr()}],[elapsed_time = {curr_time}sec] \")\n",
        "\n",
        "        # Learning rate Scheduling\n",
        "        # Scheduler에 따라 learning rate를 조절합니다. \n",
        "        scheduler_.step()\n",
        "        \n",
        "      \n",
        "    print(f\"\\nTrain Ended, total_elapsed_time = {round(time.time()-start_time)} \")\n",
        "    print(\"--------------------------------------------------------------------\")\n",
        "    \n",
        "    # Loss 값 반환\n",
        "    return train_losses, valid_losses, test_losses"
      ]
    },
    {
      "cell_type": "markdown",
      "metadata": {
        "id": "Vn80AsOCYGMe"
      },
      "source": [
        "## Setting"
      ]
    },
    {
      "cell_type": "code",
      "execution_count": null,
      "metadata": {
        "id": "9G2STZq9YDYk"
      },
      "outputs": [],
      "source": [
        "# Moodel Setting \n",
        "model = MLP_()\n",
        "model.to(device)\n",
        "\n",
        "# Optimizer\n",
        "# Optimzer와 Learning rate를 설정해줍니다.\n",
        "optimizer = torch.optim.Adam(model.parameters(), lr=0.001, weight_decay = 2e-3)\n",
        "\n",
        "# Loss Function\n",
        "criterion = nn.CrossEntropyLoss()\n",
        "\n",
        "# Learning rate scheduler\n",
        "# epoch가 10번 돌때마다 learning rate를 gamma만큼 곱해 사용합니다. ex) 0.01 -> 0.005\n",
        "scheduler = torch.optim.lr_scheduler.StepLR(optimizer, step_size=10, gamma=0.5)"
      ]
    },
    {
      "cell_type": "markdown",
      "metadata": {
        "id": "7CZOAkyaYMx8"
      },
      "source": [
        "## Training"
      ]
    },
    {
      "cell_type": "code",
      "execution_count": null,
      "metadata": {
        "colab": {
          "base_uri": "https://localhost:8080/"
        },
        "id": "7O8pE28EcZ2j",
        "outputId": "d570143a-e723-43dd-ce0e-fba5854ab81e"
      },
      "outputs": [
        {
          "name": "stdout",
          "output_type": "stream",
          "text": [
            "----------------------------------------------------------------------------\n",
            "Epoch 1  /  30\n",
            "\t [Train loss : 0.23142]  [Validation loss : 0.14632] [Test loss : 0.13463], [Test Accuracy : 95.99%],[curr LR = [0.001]],[elapsed_time = 16sec] \n",
            "Epoch 2  /  30\n",
            "\t [Train loss : 0.14403]  [Validation loss : 0.13316] [Test loss : 0.12384], [Test Accuracy : 96.28%],[curr LR = [0.001]],[elapsed_time = 37sec] \n",
            "Epoch 3  /  30\n",
            "\t [Train loss : 0.12705]  [Validation loss : 0.12722] [Test loss : 0.11782], [Test Accuracy : 96.41%],[curr LR = [0.001]],[elapsed_time = 53sec] \n",
            "Epoch 4  /  30\n",
            "\t [Train loss : 0.11544]  [Validation loss : 0.12515] [Test loss : 0.11533], [Test Accuracy : 96.49%],[curr LR = [0.001]],[elapsed_time = 70sec] \n",
            "Epoch 5  /  30\n",
            "\t [Train loss : 0.10761]  [Validation loss : 0.12141] [Test loss : 0.11057], [Test Accuracy : 96.51%],[curr LR = [0.001]],[elapsed_time = 86sec] \n",
            "Epoch 6  /  30\n",
            "\t [Train loss : 0.10311]  [Validation loss : 0.11675] [Test loss : 0.10634], [Test Accuracy : 96.74%],[curr LR = [0.001]],[elapsed_time = 103sec] \n",
            "Epoch 7  /  30\n",
            "\t [Train loss : 0.09948]  [Validation loss : 0.11569] [Test loss : 0.1046], [Test Accuracy : 96.75%],[curr LR = [0.001]],[elapsed_time = 123sec] \n",
            "Epoch 8  /  30\n",
            "\t [Train loss : 0.09738]  [Validation loss : 0.11986] [Test loss : 0.10851], [Test Accuracy : 96.68%],[curr LR = [0.001]],[elapsed_time = 139sec] \n",
            "Epoch 9  /  30\n",
            "\t [Train loss : 0.09563]  [Validation loss : 0.11498] [Test loss : 0.10536], [Test Accuracy : 96.77%],[curr LR = [0.001]],[elapsed_time = 156sec] \n",
            "Epoch 10  /  30\n",
            "\t [Train loss : 0.09409]  [Validation loss : 0.11489] [Test loss : 0.10365], [Test Accuracy : 97.02%],[curr LR = [0.001]],[elapsed_time = 172sec] \n",
            "Epoch 11  /  30\n",
            "\t [Train loss : 0.07781]  [Validation loss : 0.0996] [Test loss : 0.09094], [Test Accuracy : 97.38%],[curr LR = [0.0005]],[elapsed_time = 188sec] \n",
            "Epoch 12  /  30\n",
            "\t [Train loss : 0.07643]  [Validation loss : 0.09988] [Test loss : 0.09068], [Test Accuracy : 97.33%],[curr LR = [0.0005]],[elapsed_time = 209sec] \n",
            "Epoch 13  /  30\n",
            "\t [Train loss : 0.07551]  [Validation loss : 0.10019] [Test loss : 0.09127], [Test Accuracy : 97.34%],[curr LR = [0.0005]],[elapsed_time = 225sec] \n",
            "Epoch 14  /  30\n",
            "\t [Train loss : 0.07462]  [Validation loss : 0.09983] [Test loss : 0.0911], [Test Accuracy : 97.35%],[curr LR = [0.0005]],[elapsed_time = 241sec] \n",
            "Epoch 15  /  30\n",
            "\t [Train loss : 0.07386]  [Validation loss : 0.0995] [Test loss : 0.09148], [Test Accuracy : 97.37%],[curr LR = [0.0005]],[elapsed_time = 257sec] \n",
            "Epoch 16  /  30\n",
            "\t [Train loss : 0.0733]  [Validation loss : 0.09989] [Test loss : 0.09171], [Test Accuracy : 97.31%],[curr LR = [0.0005]],[elapsed_time = 275sec] \n",
            "Epoch 17  /  30\n",
            "\t [Train loss : 0.0728]  [Validation loss : 0.09976] [Test loss : 0.09204], [Test Accuracy : 97.31%],[curr LR = [0.0005]],[elapsed_time = 296sec] \n",
            "Epoch 18  /  30\n",
            "\t [Train loss : 0.07253]  [Validation loss : 0.09854] [Test loss : 0.09053], [Test Accuracy : 97.39%],[curr LR = [0.0005]],[elapsed_time = 312sec] \n",
            "Epoch 19  /  30\n",
            "\t [Train loss : 0.07219]  [Validation loss : 0.10025] [Test loss : 0.09245], [Test Accuracy : 97.34%],[curr LR = [0.0005]],[elapsed_time = 329sec] \n",
            "Epoch 20  /  30\n",
            "\t [Train loss : 0.07197]  [Validation loss : 0.09888] [Test loss : 0.09127], [Test Accuracy : 97.3%],[curr LR = [0.0005]],[elapsed_time = 344sec] \n",
            "Epoch 21  /  30\n",
            "\t [Train loss : 0.06449]  [Validation loss : 0.09255] [Test loss : 0.08533], [Test Accuracy : 97.47%],[curr LR = [0.00025]],[elapsed_time = 361sec] \n",
            "Epoch 22  /  30\n",
            "\t [Train loss : 0.06387]  [Validation loss : 0.09317] [Test loss : 0.08584], [Test Accuracy : 97.43%],[curr LR = [0.00025]],[elapsed_time = 381sec] \n",
            "Epoch 23  /  30\n",
            "\t [Train loss : 0.0635]  [Validation loss : 0.09275] [Test loss : 0.08544], [Test Accuracy : 97.45%],[curr LR = [0.00025]],[elapsed_time = 397sec] \n",
            "Epoch 24  /  30\n",
            "\t [Train loss : 0.06329]  [Validation loss : 0.093] [Test loss : 0.08574], [Test Accuracy : 97.49%],[curr LR = [0.00025]],[elapsed_time = 414sec] \n",
            "Epoch 25  /  30\n",
            "\t [Train loss : 0.06303]  [Validation loss : 0.0929] [Test loss : 0.08569], [Test Accuracy : 97.5%],[curr LR = [0.00025]],[elapsed_time = 430sec] \n",
            "Epoch 26  /  30\n",
            "\t [Train loss : 0.06286]  [Validation loss : 0.09297] [Test loss : 0.08587], [Test Accuracy : 97.51%],[curr LR = [0.00025]],[elapsed_time = 446sec] \n",
            "Epoch 27  /  30\n",
            "\t [Train loss : 0.06268]  [Validation loss : 0.09281] [Test loss : 0.08561], [Test Accuracy : 97.53%],[curr LR = [0.00025]],[elapsed_time = 466sec] \n",
            "Epoch 28  /  30\n",
            "\t [Train loss : 0.06252]  [Validation loss : 0.09279] [Test loss : 0.08567], [Test Accuracy : 97.51%],[curr LR = [0.00025]],[elapsed_time = 483sec] \n",
            "Epoch 29  /  30\n",
            "\t [Train loss : 0.0624]  [Validation loss : 0.09238] [Test loss : 0.08532], [Test Accuracy : 97.52%],[curr LR = [0.00025]],[elapsed_time = 499sec] \n",
            "Epoch 30  /  30\n",
            "\t [Train loss : 0.06224]  [Validation loss : 0.09288] [Test loss : 0.08587], [Test Accuracy : 97.49%],[curr LR = [0.00025]],[elapsed_time = 515sec] \n",
            "\n",
            "Train Ended, total_elapsed_time = 515 \n",
            "--------------------------------------------------------------------\n"
          ]
        }
      ],
      "source": [
        "train_losses, valid_losses, test_losses = train(model, criterion_ = criterion, optimizer_ = optimizer, scheduler_ = scheduler, num_epochs=30)"
      ]
    },
    {
      "cell_type": "markdown",
      "metadata": {
        "id": "Cs8DOtIaX7_K"
      },
      "source": [
        "# Plot Result\n",
        "---"
      ]
    },
    {
      "cell_type": "code",
      "execution_count": null,
      "metadata": {
        "id": "dzQ0Fcek5lRt"
      },
      "outputs": [],
      "source": [
        "def plot_result(train_loss, val_loss, test_loss):\n",
        "  plt.figure(figsize=(20,8))\n",
        "  plt.plot(train_loss, label='Train Loss', linewidth='3')\n",
        "  plt.plot(val_loss, label='Validation Loss', linewidth='3')\n",
        "  plt.plot(test_loss, label='Test Loss', linewidth='3')\n",
        "  plt.grid()\n",
        "  plt.rc('xtick', labelsize=12)\n",
        "  plt.rc('ytick', labelsize=12)  \n",
        "  plt.legend()\n",
        "  plt.rc('legend', fontsize=15)  \n",
        "  plt.xlabel('Number of Eopch')\n",
        "  plt.ylabel('Cross Entropy Loss')\n",
        "  plt.rc('axes', labelsize=17)  \n"
      ]
    },
    {
      "cell_type": "code",
      "execution_count": null,
      "metadata": {
        "colab": {
          "base_uri": "https://localhost:8080/",
          "height": 494
        },
        "id": "Tkh-ihpJge0M",
        "outputId": "db562638-f2a8-41d1-cce4-a8f3a4b7e240"
      },
      "outputs": [
        {
          "data": {
            "image/png": "[encoded data removed]",
            "text/plain": [
              "<Figure size 1440x576 with 1 Axes>"
            ]
          },
          "metadata": {},
          "output_type": "display_data"
        }
      ],
      "source": [
        "plot_result(train_losses, valid_losses, test_losses)"
      ]
    },
    {
      "cell_type": "markdown",
      "metadata": {
        "id": "uwo_IMmcG7Ij"
      },
      "source": [
        "\n",
        "\n",
        "#Assignment 2\n",
        "\n"
      ]
    },
    {
      "cell_type": "code",
      "execution_count": 6,
      "metadata": {
        "id": "-bEc1x4KHh-J"
      },
      "outputs": [],
      "source": [
        "def target(x,y):\n",
        "  term1 = np.sin(20*np.sqrt(x**2+y**2)) / (20*np.sqrt(x**2+y**2))\n",
        "  term2 = 0.2*np.cos(10*np.sqrt(x**2+y**2))\n",
        "  result = term1 + term2 + 0.5*y -0.3\n",
        "  return(result)"
      ]
    },
    {
      "cell_type": "code",
      "execution_count": 7,
      "metadata": {
        "id": "bJilmfRlIA0w"
      },
      "outputs": [],
      "source": [
        "def gen_data(dim):\n",
        "  x = np.linspace(-1, 1, dim)\n",
        "  y = np.linspace(-1, 1, dim)\n",
        "  xx, yy = np.meshgrid(x,y)\n",
        "  zz = target(xx, yy)\n",
        "  \n",
        "  data1 = xx.reshape(-1,1)\n",
        "  data2 = yy.reshape(-1,1)\n",
        "  label = zz.reshape(-1,1)\n",
        "  dataset = np.hstack((data1, data2))\n",
        "  dataset = np.hstack((dataset, label))\n",
        "\n",
        "  return dataset"
      ]
    },
    {
      "cell_type": "code",
      "execution_count": 8,
      "metadata": {
        "id": "gGpSm86JN4A9"
      },
      "outputs": [],
      "source": [
        "class Mydataset(torch.utils.data.Dataset):\n",
        "\n",
        "    # 데이터 전처리 \n",
        "    def __init__(self, dataX_np , dataY_np):\n",
        "        self.data_X = dataX_np.astype(np.float32)\n",
        "        self.data_Y = dataY_np.astype(np.float32)\n",
        "\n",
        "        print(f\"My_dataset __init__ received : {self.data_X.shape}, {self.data_Y.shape} \")\n",
        "\n",
        "    # 인덱스를 입력받아 인덱스에 알맞는 입출력 데이터를 Return\n",
        "    def __getitem__(self, index):\n",
        "        batch = self.data_X[index]\n",
        "        label = self.data_Y[index] \n",
        "        \n",
        "        return batch, label\n",
        "    \n",
        "    # 총 데이터 개수를 Return\n",
        "    def __len__(self):\n",
        "        return len(self.data_X)"
      ]
    },
    {
      "cell_type": "code",
      "execution_count": 9,
      "metadata": {
        "id": "jSojwQrCrG2e"
      },
      "outputs": [],
      "source": [
        "dataset = gen_data(100)"
      ]
    },
    {
      "cell_type": "code",
      "execution_count": 10,
      "metadata": {
        "colab": {
          "base_uri": "https://localhost:8080/"
        },
        "id": "bnp5L5LcMfUw",
        "outputId": "0d836aca-4adb-4412-aeba-9c5b5dd0c202"
      },
      "outputs": [
        {
          "output_type": "stream",
          "name": "stdout",
          "text": [
            "Train 데이터 크기: ((7000, 2), (7000, 1))\n",
            "Validation 데이터 크기: ((1500, 2), (1500, 1))\n",
            "Test 데이터 크기:((1500, 2), (1500, 1))\n"
          ]
        }
      ],
      "source": [
        "x = dataset[:,:2]\n",
        "y = dataset[:,2:]\n",
        "\n",
        "x_train, x_, y_train, y_ = train_test_split(x, y, train_size = 0.7, shuffle=True)\n",
        "x_val, x_test, y_val, y_test = train_test_split(x_, y_, test_size=0.5, shuffle = True)\n",
        "print(f\"Train 데이터 크기: {x_train.shape, y_train.shape}\")\n",
        "print(f\"Validation 데이터 크기: {x_val.shape, y_val.shape}\")\n",
        "print(f\"Test 데이터 크기:{x_test.shape, y_test.shape}\")"
      ]
    },
    {
      "cell_type": "code",
      "execution_count": 11,
      "metadata": {
        "colab": {
          "base_uri": "https://localhost:8080/"
        },
        "id": "lxhCkddAPQPq",
        "outputId": "8e268e80-09f5-46f3-e131-ee0968428619"
      },
      "outputs": [
        {
          "output_type": "stream",
          "name": "stdout",
          "text": [
            "My_dataset __init__ received : (7000, 2), (7000, 1) \n",
            "My_dataset __init__ received : (1500, 2), (1500, 1) \n",
            "My_dataset __init__ received : (1500, 2), (1500, 1) \n"
          ]
        }
      ],
      "source": [
        "train_loader = torch.utils.data.DataLoader(Mydataset(x_train, y_train), batch_size=1000000000, shuffle=False, drop_last = False)\n",
        "valid_loader = torch.utils.data.DataLoader(Mydataset(x_val, y_val), batch_size = 1000000000, shuffle=False, drop_last = False)\n",
        "test_loader = torch.utils.data.DataLoader(Mydataset(x_test, y_test), batch_size = 100000000, shuffle=False, drop_last = False)"
      ]
    },
    {
      "cell_type": "code",
      "execution_count": 12,
      "metadata": {
        "id": "TjL_43N-QVl0"
      },
      "outputs": [],
      "source": [
        "class Approx(nn.Module):\n",
        "    def __init__(self, inp_ = 2, outp_ = 1):\n",
        "      super(Approx, self).__init__()\n",
        "      self.fc1 = nn.Linear(inp_, 24)\n",
        "      self.fc2 = nn.Linear(24, 48)\n",
        "      self.fc3 = nn.Linear(48, 4)\n",
        "      self.fc4 = nn.Linear(4, outp_)\n",
        "       \n",
        "\n",
        "    def forward(self, a):\n",
        "      a = self.fc1(a)\n",
        "      a = torch.tanh(a)\n",
        "      a = self.fc2(a)\n",
        "      a = torch.tanh(a) \n",
        "      a = self.fc3(a)\n",
        "      a = torch.tanh(a)\n",
        "      a = self.fc4(a)\n",
        "        \n",
        "\n",
        "      return a"
      ]
    },
    {
      "cell_type": "code",
      "execution_count": 13,
      "metadata": {
        "id": "FQkV6XJVW65i"
      },
      "outputs": [],
      "source": [
        "from statistics import mean \n",
        "import time\n",
        "\n",
        "'''\n",
        " 모델의 학습을 정의하는 함수입니다.\n",
        " model, Lossfunction, Optimizer, Scheduler 등을 입력받습니다.\n",
        " 출력은 train, valdation, test의 loss 리스트로 하였습니다.\n",
        " train함수를 사용하면 입력받은 loss와 optimizer, lr scheduler, num_epoch에 따라 model을 학습시킵니다.\n",
        "'''\n",
        "\n",
        "def train(model, criterion_, optimizer_, scheduler_, num_epochs=40, first_epoch=1):\n",
        "    \n",
        "    train_losses = []\n",
        "    valid_losses = []\n",
        "    test_losses = []\n",
        "\n",
        "    print(\"----------------------------------------------------------------------------\")\n",
        "\n",
        "    start_time = time.time()\n",
        "    for epoch in range(first_epoch, first_epoch + num_epochs):\n",
        "        # train phase\n",
        "        model.train()\n",
        "        \n",
        "        # batch_loss \n",
        "        batch_losses = []\n",
        "\n",
        "        for samples, labels in train_loader:\n",
        "            \n",
        "            # Move the training data to the GPU\n",
        "            samples = samples.to(device)   \n",
        "            labels = labels.to(device)\n",
        "\n",
        "            # clear previous gradient computation\n",
        "            optimizer_.zero_grad()\n",
        "\n",
        "            # forward propagation\n",
        "            outputs = model(samples)\n",
        "\n",
        "            # calculate the loss\n",
        "            loss = criterion_.forward(outputs, labels)\n",
        "            batch_losses.append(loss.item())\n",
        "\n",
        "            # backpropagate to compute gradients\n",
        "            loss.backward()\n",
        "\n",
        "            # update model weights\n",
        "            optimizer_.step()\n",
        "\n",
        "        # Train loss를 저장합니다.\n",
        "        train_losses.append(mean(batch_losses))\n",
        "\n",
        "        # validation phase\n",
        "        # Dropout, BatchNormalization과 같은 layer가 동작하지 않도록 합니다.\n",
        "        model.eval()\n",
        "\n",
        "        # We don't need gradients for test, so wrap in \n",
        "        # no_grad to save memory\n",
        "        # 기울기 Gradient를 계산하지 않으며 backpropagation을 하지 않습니다. \n",
        "        with torch.no_grad():\n",
        "            \n",
        "            correct_test = 0\n",
        "\n",
        "            for samples, labels in valid_loader:\n",
        "\n",
        "                # Move the training batch to the GPU\n",
        "                samples = samples.to(device)\n",
        "                labels = labels.to(device)\n",
        "\n",
        "                # forward propagation\n",
        "                outputs = model(samples)\n",
        "\n",
        "                # calculate the loss\n",
        "                loss = criterion_(outputs, labels)\n",
        "                valid_losses.append(loss.item())\n",
        "\n",
        "            for samples, labels in test_loader:\n",
        "                # Move the training batch to the GPU\n",
        "                samples = samples.to(device)\n",
        "                labels = labels.to(device)\n",
        "\n",
        "                # forward propagation\n",
        "                outputs = model(samples)\n",
        "\n",
        "                # calculate the loss\n",
        "                loss = criterion_(outputs, labels)\n",
        "                test_losses.append(loss.item())\n",
        "\n",
        "                \n",
        "        \n",
        "        # 원하는 Epoch마다 결과 출력 \n",
        "        if (epoch) % 1== 0 :\n",
        "            curr_time = round(time.time()-start_time)\n",
        "            train_rec = round(train_losses[-1],5)\n",
        "            valid_rec = round(valid_losses[-1],5)\n",
        "            test_rec = round(test_losses[-1],5)\n",
        "            print('Epoch', epoch, ' / ',num_epochs)\n",
        "            print(f\"\\t [Train loss : {train_rec}]  [Validation loss : {valid_rec}] [Test loss : {test_rec}],[curr LR = {scheduler_.get_last_lr()}],[elapsed_time = {curr_time}sec] \")\n",
        "\n",
        "        # Learning rate Scheduling\n",
        "        # Scheduler에 따라 learning rate를 조절합니다. \n",
        "        scheduler_.step()\n",
        "        \n",
        "      \n",
        "    print(f\"\\nTrain Ended, total_elapsed_time = {round(time.time()-start_time)} \")\n",
        "    print(\"--------------------------------------------------------------------\")\n",
        "    \n",
        "    # Loss 값 반환\n",
        "    return train_losses, valid_losses, test_losses"
      ]
    },
    {
      "cell_type": "code",
      "execution_count": 14,
      "metadata": {
        "id": "MpeHxJpwSvxa"
      },
      "outputs": [],
      "source": [
        "# Model Setting \n",
        "model = Approx()\n",
        "model.to(device)\n",
        "\n",
        "# Optimizer\n",
        "# Optimzer와 Learning rate를 설정해줍니다.\n",
        "optimizer = torch.optim.Adam(model.parameters(), lr=0.1)\n",
        "\n",
        "# Loss Function\n",
        "criterion = nn.MSELoss()\n",
        "\n",
        "# Learning rate scheduler\n",
        "# epoch가 10번 돌때마다 learning rate를 gamma만큼 곱해 사용합니다. ex) 0.01 -> 0.005\n",
        "scheduler = torch.optim.lr_scheduler.StepLR(optimizer, step_size=2000, gamma=0.5)"
      ]
    },
    {
      "cell_type": "code",
      "execution_count": 15,
      "metadata": {
        "colab": {
          "base_uri": "https://localhost:8080/",
          "height": 349
        },
        "id": "9OX_-YsHTDrZ",
        "outputId": "b5169d8c-01b5-4cf9-e8cd-2de2ac10b921"
      },
      "outputs": [
        {
          "output_type": "stream",
          "name": "stdout",
          "text": [
            "----------------------------------------------------------------------------\n"
          ]
        },
        {
          "output_type": "error",
          "ename": "KeyboardInterrupt",
          "evalue": "ignored",
          "traceback": [
            "\u001b[0;31m---------------------------------------------------------------------------\u001b[0m",
            "\u001b[0;31mKeyboardInterrupt\u001b[0m                         Traceback (most recent call last)",
            "\u001b[0;32m<ipython-input-15-8c51258a493a>\u001b[0m in \u001b[0;36m<module>\u001b[0;34m\u001b[0m\n\u001b[0;32m----> 1\u001b[0;31m \u001b[0mtrain_losses\u001b[0m\u001b[0;34m,\u001b[0m \u001b[0mvalid_losses\u001b[0m\u001b[0;34m,\u001b[0m \u001b[0mtest_losses\u001b[0m \u001b[0;34m=\u001b[0m \u001b[0mtrain\u001b[0m\u001b[0;34m(\u001b[0m\u001b[0mmodel\u001b[0m\u001b[0;34m,\u001b[0m \u001b[0mcriterion_\u001b[0m \u001b[0;34m=\u001b[0m \u001b[0mcriterion\u001b[0m\u001b[0;34m,\u001b[0m \u001b[0moptimizer_\u001b[0m \u001b[0;34m=\u001b[0m \u001b[0moptimizer\u001b[0m\u001b[0;34m,\u001b[0m \u001b[0mscheduler_\u001b[0m \u001b[0;34m=\u001b[0m \u001b[0mscheduler\u001b[0m\u001b[0;34m,\u001b[0m \u001b[0mnum_epochs\u001b[0m\u001b[0;34m=\u001b[0m\u001b[0;36m6000\u001b[0m\u001b[0;34m)\u001b[0m\u001b[0;34m\u001b[0m\u001b[0;34m\u001b[0m\u001b[0m\n\u001b[0m",
            "\u001b[0;32m<ipython-input-13-a4ae76d2f504>\u001b[0m in \u001b[0;36mtrain\u001b[0;34m(model, criterion_, optimizer_, scheduler_, num_epochs, first_epoch)\u001b[0m\n\u001b[1;32m     25\u001b[0m         \u001b[0mbatch_losses\u001b[0m \u001b[0;34m=\u001b[0m \u001b[0;34m[\u001b[0m\u001b[0;34m]\u001b[0m\u001b[0;34m\u001b[0m\u001b[0;34m\u001b[0m\u001b[0m\n\u001b[1;32m     26\u001b[0m \u001b[0;34m\u001b[0m\u001b[0m\n\u001b[0;32m---> 27\u001b[0;31m         \u001b[0;32mfor\u001b[0m \u001b[0msamples\u001b[0m\u001b[0;34m,\u001b[0m \u001b[0mlabels\u001b[0m \u001b[0;32min\u001b[0m \u001b[0mtrain_loader\u001b[0m\u001b[0;34m:\u001b[0m\u001b[0;34m\u001b[0m\u001b[0;34m\u001b[0m\u001b[0m\n\u001b[0m\u001b[1;32m     28\u001b[0m \u001b[0;34m\u001b[0m\u001b[0m\n\u001b[1;32m     29\u001b[0m             \u001b[0;31m# Move the training data to the GPU\u001b[0m\u001b[0;34m\u001b[0m\u001b[0;34m\u001b[0m\u001b[0;34m\u001b[0m\u001b[0m\n",
            "\u001b[0;32m/usr/local/lib/python3.8/dist-packages/torch/utils/data/dataloader.py\u001b[0m in \u001b[0;36m__next__\u001b[0;34m(self)\u001b[0m\n\u001b[1;32m    626\u001b[0m                 \u001b[0;31m# TODO(https://github.com/pytorch/pytorch/issues/76750)\u001b[0m\u001b[0;34m\u001b[0m\u001b[0;34m\u001b[0m\u001b[0;34m\u001b[0m\u001b[0m\n\u001b[1;32m    627\u001b[0m                 \u001b[0mself\u001b[0m\u001b[0;34m.\u001b[0m\u001b[0m_reset\u001b[0m\u001b[0;34m(\u001b[0m\u001b[0;34m)\u001b[0m  \u001b[0;31m# type: ignore[call-arg]\u001b[0m\u001b[0;34m\u001b[0m\u001b[0;34m\u001b[0m\u001b[0m\n\u001b[0;32m--> 628\u001b[0;31m             \u001b[0mdata\u001b[0m \u001b[0;34m=\u001b[0m \u001b[0mself\u001b[0m\u001b[0;34m.\u001b[0m\u001b[0m_next_data\u001b[0m\u001b[0;34m(\u001b[0m\u001b[0;34m)\u001b[0m\u001b[0;34m\u001b[0m\u001b[0;34m\u001b[0m\u001b[0m\n\u001b[0m\u001b[1;32m    629\u001b[0m             \u001b[0mself\u001b[0m\u001b[0;34m.\u001b[0m\u001b[0m_num_yielded\u001b[0m \u001b[0;34m+=\u001b[0m \u001b[0;36m1\u001b[0m\u001b[0;34m\u001b[0m\u001b[0;34m\u001b[0m\u001b[0m\n\u001b[1;32m    630\u001b[0m             \u001b[0;32mif\u001b[0m \u001b[0mself\u001b[0m\u001b[0;34m.\u001b[0m\u001b[0m_dataset_kind\u001b[0m \u001b[0;34m==\u001b[0m \u001b[0m_DatasetKind\u001b[0m\u001b[0;34m.\u001b[0m\u001b[0mIterable\u001b[0m \u001b[0;32mand\u001b[0m\u001b[0;31m \u001b[0m\u001b[0;31m\\\u001b[0m\u001b[0;34m\u001b[0m\u001b[0;34m\u001b[0m\u001b[0m\n",
            "\u001b[0;32m/usr/local/lib/python3.8/dist-packages/torch/utils/data/dataloader.py\u001b[0m in \u001b[0;36m_next_data\u001b[0;34m(self)\u001b[0m\n\u001b[1;32m    669\u001b[0m     \u001b[0;32mdef\u001b[0m \u001b[0m_next_data\u001b[0m\u001b[0;34m(\u001b[0m\u001b[0mself\u001b[0m\u001b[0;34m)\u001b[0m\u001b[0;34m:\u001b[0m\u001b[0;34m\u001b[0m\u001b[0;34m\u001b[0m\u001b[0m\n\u001b[1;32m    670\u001b[0m         \u001b[0mindex\u001b[0m \u001b[0;34m=\u001b[0m \u001b[0mself\u001b[0m\u001b[0;34m.\u001b[0m\u001b[0m_next_index\u001b[0m\u001b[0;34m(\u001b[0m\u001b[0;34m)\u001b[0m  \u001b[0;31m# may raise StopIteration\u001b[0m\u001b[0;34m\u001b[0m\u001b[0;34m\u001b[0m\u001b[0m\n\u001b[0;32m--> 671\u001b[0;31m         \u001b[0mdata\u001b[0m \u001b[0;34m=\u001b[0m \u001b[0mself\u001b[0m\u001b[0;34m.\u001b[0m\u001b[0m_dataset_fetcher\u001b[0m\u001b[0;34m.\u001b[0m\u001b[0mfetch\u001b[0m\u001b[0;34m(\u001b[0m\u001b[0mindex\u001b[0m\u001b[0;34m)\u001b[0m  \u001b[0;31m# may raise StopIteration\u001b[0m\u001b[0;34m\u001b[0m\u001b[0;34m\u001b[0m\u001b[0m\n\u001b[0m\u001b[1;32m    672\u001b[0m         \u001b[0;32mif\u001b[0m \u001b[0mself\u001b[0m\u001b[0;34m.\u001b[0m\u001b[0m_pin_memory\u001b[0m\u001b[0;34m:\u001b[0m\u001b[0;34m\u001b[0m\u001b[0;34m\u001b[0m\u001b[0m\n\u001b[1;32m    673\u001b[0m             \u001b[0mdata\u001b[0m \u001b[0;34m=\u001b[0m \u001b[0m_utils\u001b[0m\u001b[0;34m.\u001b[0m\u001b[0mpin_memory\u001b[0m\u001b[0;34m.\u001b[0m\u001b[0mpin_memory\u001b[0m\u001b[0;34m(\u001b[0m\u001b[0mdata\u001b[0m\u001b[0;34m,\u001b[0m \u001b[0mself\u001b[0m\u001b[0;34m.\u001b[0m\u001b[0m_pin_memory_device\u001b[0m\u001b[0;34m)\u001b[0m\u001b[0;34m\u001b[0m\u001b[0;34m\u001b[0m\u001b[0m\n",
            "\u001b[0;32m/usr/local/lib/python3.8/dist-packages/torch/utils/data/_utils/fetch.py\u001b[0m in \u001b[0;36mfetch\u001b[0;34m(self, possibly_batched_index)\u001b[0m\n\u001b[1;32m     56\u001b[0m                 \u001b[0mdata\u001b[0m \u001b[0;34m=\u001b[0m \u001b[0mself\u001b[0m\u001b[0;34m.\u001b[0m\u001b[0mdataset\u001b[0m\u001b[0;34m.\u001b[0m\u001b[0m__getitems__\u001b[0m\u001b[0;34m(\u001b[0m\u001b[0mpossibly_batched_index\u001b[0m\u001b[0;34m)\u001b[0m\u001b[0;34m\u001b[0m\u001b[0;34m\u001b[0m\u001b[0m\n\u001b[1;32m     57\u001b[0m             \u001b[0;32melse\u001b[0m\u001b[0;34m:\u001b[0m\u001b[0;34m\u001b[0m\u001b[0;34m\u001b[0m\u001b[0m\n\u001b[0;32m---> 58\u001b[0;31m                 \u001b[0mdata\u001b[0m \u001b[0;34m=\u001b[0m \u001b[0;34m[\u001b[0m\u001b[0mself\u001b[0m\u001b[0;34m.\u001b[0m\u001b[0mdataset\u001b[0m\u001b[0;34m[\u001b[0m\u001b[0midx\u001b[0m\u001b[0;34m]\u001b[0m \u001b[0;32mfor\u001b[0m \u001b[0midx\u001b[0m \u001b[0;32min\u001b[0m \u001b[0mpossibly_batched_index\u001b[0m\u001b[0;34m]\u001b[0m\u001b[0;34m\u001b[0m\u001b[0;34m\u001b[0m\u001b[0m\n\u001b[0m\u001b[1;32m     59\u001b[0m         \u001b[0;32melse\u001b[0m\u001b[0;34m:\u001b[0m\u001b[0;34m\u001b[0m\u001b[0;34m\u001b[0m\u001b[0m\n\u001b[1;32m     60\u001b[0m             \u001b[0mdata\u001b[0m \u001b[0;34m=\u001b[0m \u001b[0mself\u001b[0m\u001b[0;34m.\u001b[0m\u001b[0mdataset\u001b[0m\u001b[0;34m[\u001b[0m\u001b[0mpossibly_batched_index\u001b[0m\u001b[0;34m]\u001b[0m\u001b[0;34m\u001b[0m\u001b[0;34m\u001b[0m\u001b[0m\n",
            "\u001b[0;32m/usr/local/lib/python3.8/dist-packages/torch/utils/data/_utils/fetch.py\u001b[0m in \u001b[0;36m<listcomp>\u001b[0;34m(.0)\u001b[0m\n\u001b[1;32m     56\u001b[0m                 \u001b[0mdata\u001b[0m \u001b[0;34m=\u001b[0m \u001b[0mself\u001b[0m\u001b[0;34m.\u001b[0m\u001b[0mdataset\u001b[0m\u001b[0;34m.\u001b[0m\u001b[0m__getitems__\u001b[0m\u001b[0;34m(\u001b[0m\u001b[0mpossibly_batched_index\u001b[0m\u001b[0;34m)\u001b[0m\u001b[0;34m\u001b[0m\u001b[0;34m\u001b[0m\u001b[0m\n\u001b[1;32m     57\u001b[0m             \u001b[0;32melse\u001b[0m\u001b[0;34m:\u001b[0m\u001b[0;34m\u001b[0m\u001b[0;34m\u001b[0m\u001b[0m\n\u001b[0;32m---> 58\u001b[0;31m                 \u001b[0mdata\u001b[0m \u001b[0;34m=\u001b[0m \u001b[0;34m[\u001b[0m\u001b[0mself\u001b[0m\u001b[0;34m.\u001b[0m\u001b[0mdataset\u001b[0m\u001b[0;34m[\u001b[0m\u001b[0midx\u001b[0m\u001b[0;34m]\u001b[0m \u001b[0;32mfor\u001b[0m \u001b[0midx\u001b[0m \u001b[0;32min\u001b[0m \u001b[0mpossibly_batched_index\u001b[0m\u001b[0;34m]\u001b[0m\u001b[0;34m\u001b[0m\u001b[0;34m\u001b[0m\u001b[0m\n\u001b[0m\u001b[1;32m     59\u001b[0m         \u001b[0;32melse\u001b[0m\u001b[0;34m:\u001b[0m\u001b[0;34m\u001b[0m\u001b[0;34m\u001b[0m\u001b[0m\n\u001b[1;32m     60\u001b[0m             \u001b[0mdata\u001b[0m \u001b[0;34m=\u001b[0m \u001b[0mself\u001b[0m\u001b[0;34m.\u001b[0m\u001b[0mdataset\u001b[0m\u001b[0;34m[\u001b[0m\u001b[0mpossibly_batched_index\u001b[0m\u001b[0;34m]\u001b[0m\u001b[0;34m\u001b[0m\u001b[0;34m\u001b[0m\u001b[0m\n",
            "\u001b[0;32m<ipython-input-8-5f8e9f80c914>\u001b[0m in \u001b[0;36m__getitem__\u001b[0;34m(self, index)\u001b[0m\n\u001b[1;32m     13\u001b[0m         \u001b[0mlabel\u001b[0m \u001b[0;34m=\u001b[0m \u001b[0mself\u001b[0m\u001b[0;34m.\u001b[0m\u001b[0mdata_Y\u001b[0m\u001b[0;34m[\u001b[0m\u001b[0mindex\u001b[0m\u001b[0;34m]\u001b[0m\u001b[0;34m\u001b[0m\u001b[0;34m\u001b[0m\u001b[0m\n\u001b[1;32m     14\u001b[0m \u001b[0;34m\u001b[0m\u001b[0m\n\u001b[0;32m---> 15\u001b[0;31m         \u001b[0;32mreturn\u001b[0m \u001b[0mbatch\u001b[0m\u001b[0;34m,\u001b[0m \u001b[0mlabel\u001b[0m\u001b[0;34m\u001b[0m\u001b[0;34m\u001b[0m\u001b[0m\n\u001b[0m\u001b[1;32m     16\u001b[0m \u001b[0;34m\u001b[0m\u001b[0m\n\u001b[1;32m     17\u001b[0m     \u001b[0;31m# 총 데이터 개수를 Return\u001b[0m\u001b[0;34m\u001b[0m\u001b[0;34m\u001b[0m\u001b[0;34m\u001b[0m\u001b[0m\n",
            "\u001b[0;31mKeyboardInterrupt\u001b[0m: "
          ]
        }
      ],
      "source": [
        "train_losses, valid_losses, test_losses = train(model, criterion_ = criterion, optimizer_ = optimizer, scheduler_ = scheduler, num_epochs=6000)"
      ]
    },
    {
      "cell_type": "code",
      "execution_count": 16,
      "metadata": {
        "id": "2zeRuN52ndDL"
      },
      "outputs": [],
      "source": [
        "def plot_outcome(train_loss, val_loss, test_loss):\n",
        "  plt.figure(figsize=(20,8))\n",
        "  plt.plot(train_loss, label='Train Loss', linewidth='3')\n",
        "  plt.plot(val_loss, label='Validation Loss', linewidth='3')\n",
        "  plt.plot(test_loss, label='Test Loss', linewidth='3')\n",
        "  plt.grid()\n",
        "  plt.rc('xtick', labelsize=12)\n",
        "  plt.rc('ytick', labelsize=12)\n",
        "  plt.legend()\n",
        "  plt.rc('legend', fontsize=15)\n",
        "  plt.xlabel('Number of Eopch')\n",
        "  plt.ylabel('Cross Entropy Loss')\n",
        "  plt.rc('axes', labelsize=17)\n"
      ]
    },
    {
      "cell_type": "code",
      "execution_count": 17,
      "metadata": {
        "id": "PTjQn_n-wLL_",
        "colab": {
          "base_uri": "https://localhost:8080/",
          "height": 176
        },
        "outputId": "3c94816e-ed52-41a4-f8b0-116eb31cc6f2"
      },
      "outputs": [
        {
          "output_type": "error",
          "ename": "NameError",
          "evalue": "ignored",
          "traceback": [
            "\u001b[0;31m---------------------------------------------------------------------------\u001b[0m",
            "\u001b[0;31mNameError\u001b[0m                                 Traceback (most recent call last)",
            "\u001b[0;32m<ipython-input-17-a6cc5b2bf189>\u001b[0m in \u001b[0;36m<module>\u001b[0;34m\u001b[0m\n\u001b[0;32m----> 1\u001b[0;31m \u001b[0mplot_outcome\u001b[0m\u001b[0;34m(\u001b[0m\u001b[0mtrain_losses\u001b[0m\u001b[0;34m,\u001b[0m \u001b[0mvalid_losses\u001b[0m\u001b[0;34m,\u001b[0m \u001b[0mtest_losses\u001b[0m\u001b[0;34m)\u001b[0m\u001b[0;34m\u001b[0m\u001b[0;34m\u001b[0m\u001b[0m\n\u001b[0m",
            "\u001b[0;31mNameError\u001b[0m: name 'train_losses' is not defined"
          ]
        }
      ],
      "source": [
        "plot_outcome(train_losses, valid_losses, test_losses)"
      ]
    },
    {
      "cell_type": "code",
      "execution_count": 22,
      "metadata": {
        "id": "N1nPjmS4wQrX"
      },
      "outputs": [],
      "source": [
        "def visual_graph(model):\n",
        "  x = np.linspace(-1, 1, 100)\n",
        "  y = np.linspace(-1, 1, 100)\n",
        "  xx,yy = np.meshgrid(x,y)\n",
        "  xx = xx.reshape(-1,1)\n",
        "  yy = yy.reshape(-1,1)\n",
        "  inp_np = np.hstack((xx,yy))\n",
        "  inp_tensor = torch.Tensor(inp_np)\n",
        "  inp_tensor = inp_tensor.to(device)\n",
        "  zz = model(inp_tensor)\n",
        "  pred_output = zz.detach().cpu().numpy()\n",
        "  fig = plt.figure(figsize=(9, 6))\n",
        "  ax = fig.add_subplot(111, projection='3d')\n",
        "  xx = xx.reshape(100,100)\n",
        "  yy = yy.reshape(100,100)\n",
        "  pred_output = pred_output.reshape(100,100)\n",
        "  surf = ax.plot_surface(xx, yy, pred_output, cmap='viridis')\n",
        "  surf.set_clim(-1.0, 1.0)\n",
        "  ax.view_init(30,-60)\n",
        "  ax.set_zticks([-1,1])\n",
        "  ax.zaxis.set_major_locator(ticker.MultipleLocator(0.25))\n",
        "  plt.tight_layout()\n",
        "  plt.show()"
      ]
    },
    {
      "cell_type": "code",
      "execution_count": 23,
      "metadata": {
        "id": "7rGpnPWywa1n",
        "colab": {
          "base_uri": "https://localhost:8080/",
          "height": 647
        },
        "outputId": "73208d7d-7785-4691-b199-58d6015af18a"
      },
      "outputs": [
        {
          "output_type": "error",
          "ename": "NameError",
          "evalue": "ignored",
          "traceback": [
            "\u001b[0;31m---------------------------------------------------------------------------\u001b[0m",
            "\u001b[0;31mNameError\u001b[0m                                 Traceback (most recent call last)",
            "\u001b[0;32m<ipython-input-23-784804036b50>\u001b[0m in \u001b[0;36m<module>\u001b[0;34m\u001b[0m\n\u001b[0;32m----> 1\u001b[0;31m \u001b[0mvisual_graph\u001b[0m\u001b[0;34m(\u001b[0m\u001b[0mmodel\u001b[0m\u001b[0;34m)\u001b[0m\u001b[0;34m\u001b[0m\u001b[0;34m\u001b[0m\u001b[0m\n\u001b[0m",
            "\u001b[0;32m<ipython-input-22-a77e112cb355>\u001b[0m in \u001b[0;36mvisual_graph\u001b[0;34m(model)\u001b[0m\n\u001b[1;32m     19\u001b[0m   \u001b[0max\u001b[0m\u001b[0;34m.\u001b[0m\u001b[0mview_init\u001b[0m\u001b[0;34m(\u001b[0m\u001b[0;36m30\u001b[0m\u001b[0;34m,\u001b[0m\u001b[0;34m-\u001b[0m\u001b[0;36m60\u001b[0m\u001b[0;34m)\u001b[0m\u001b[0;34m\u001b[0m\u001b[0;34m\u001b[0m\u001b[0m\n\u001b[1;32m     20\u001b[0m   \u001b[0max\u001b[0m\u001b[0;34m.\u001b[0m\u001b[0mset_zticks\u001b[0m\u001b[0;34m(\u001b[0m\u001b[0;34m[\u001b[0m\u001b[0;34m-\u001b[0m\u001b[0;36m1\u001b[0m\u001b[0;34m,\u001b[0m\u001b[0;36m1\u001b[0m\u001b[0;34m]\u001b[0m\u001b[0;34m)\u001b[0m\u001b[0;34m\u001b[0m\u001b[0;34m\u001b[0m\u001b[0m\n\u001b[0;32m---> 21\u001b[0;31m   \u001b[0max\u001b[0m\u001b[0;34m.\u001b[0m\u001b[0mzaxis\u001b[0m\u001b[0;34m.\u001b[0m\u001b[0mset_major_locator\u001b[0m\u001b[0;34m(\u001b[0m\u001b[0mticker\u001b[0m\u001b[0;34m.\u001b[0m\u001b[0mMultipleLocator\u001b[0m\u001b[0;34m(\u001b[0m\u001b[0;36m0.25\u001b[0m\u001b[0;34m)\u001b[0m\u001b[0;34m)\u001b[0m\u001b[0;34m\u001b[0m\u001b[0;34m\u001b[0m\u001b[0m\n\u001b[0m\u001b[1;32m     22\u001b[0m   \u001b[0mplt\u001b[0m\u001b[0;34m.\u001b[0m\u001b[0mtight_layout\u001b[0m\u001b[0;34m(\u001b[0m\u001b[0;34m)\u001b[0m\u001b[0;34m\u001b[0m\u001b[0;34m\u001b[0m\u001b[0m\n\u001b[1;32m     23\u001b[0m   \u001b[0mplt\u001b[0m\u001b[0;34m.\u001b[0m\u001b[0mshow\u001b[0m\u001b[0;34m(\u001b[0m\u001b[0;34m)\u001b[0m\u001b[0;34m\u001b[0m\u001b[0;34m\u001b[0m\u001b[0m\n",
            "\u001b[0;31mNameError\u001b[0m: name 'ticker' is not defined"
          ]
        },
        {
          "output_type": "display_data",
          "data": {
            "text/plain": [
              "<Figure size 648x432 with 1 Axes>"
            ],
            "image/png": "[encoded data removed]"
          },
          "metadata": {
            "needs_background": "light"
          }
        }
      ],
      "source": [
        "visual_graph(model)"
      ]
    }
  ],
  "metadata": {
    "accelerator": "GPU",
    "colab": {
      "provenance": []
    },
    "gpuClass": "standard",
    "kernelspec": {
      "display_name": "Python 3",
      "name": "python3"
    },
    "language_info": {
      "name": "python"
    }
  },
  "nbformat": 4,
  "nbformat_minor": 0
}