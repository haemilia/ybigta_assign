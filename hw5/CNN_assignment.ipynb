{
  "nbformat": 4,
  "nbformat_minor": 0,
  "metadata": {
    "kernelspec": {
      "name": "python3",
      "display_name": "Python 3"
    },
    "colab": {
      "provenance": []
    },
    "accelerator": "GPU",
    "widgets": {
      "application/vnd.jupyter.widget-state+json": {
        "e29392a2123f458a84b501cec1ef34f3": {
          "model_module": "@jupyter-widgets/controls",
          "model_name": "HBoxModel",
          "model_module_version": "1.5.0",
          "state": {
            "_dom_classes": [],
            "_model_module": "@jupyter-widgets/controls",
            "_model_module_version": "1.5.0",
            "_model_name": "HBoxModel",
            "_view_count": null,
            "_view_module": "@jupyter-widgets/controls",
            "_view_module_version": "1.5.0",
            "_view_name": "HBoxView",
            "box_style": "",
            "children": [
              "IPY_MODEL_4e165a66d807444eaf043cc0c80c0077",
              "IPY_MODEL_e949a5f3cb9446b58eb3cc7a0f3a7e57",
              "IPY_MODEL_6b993c36c06e4faaba7d196fad6b1b80"
            ],
            "layout": "IPY_MODEL_83868ac4a6254c968b9c4aa9efd0b18b"
          }
        },
        "4e165a66d807444eaf043cc0c80c0077": {
          "model_module": "@jupyter-widgets/controls",
          "model_name": "HTMLModel",
          "model_module_version": "1.5.0",
          "state": {
            "_dom_classes": [],
            "_model_module": "@jupyter-widgets/controls",
            "_model_module_version": "1.5.0",
            "_model_name": "HTMLModel",
            "_view_count": null,
            "_view_module": "@jupyter-widgets/controls",
            "_view_module_version": "1.5.0",
            "_view_name": "HTMLView",
            "description": "",
            "description_tooltip": null,
            "layout": "IPY_MODEL_30f8fcef9ea54e53a7a11b1096d5f611",
            "placeholder": "​",
            "style": "IPY_MODEL_6ab302e8816a4c5cb04e809991ddc421",
            "value": "100%"
          }
        },
        "e949a5f3cb9446b58eb3cc7a0f3a7e57": {
          "model_module": "@jupyter-widgets/controls",
          "model_name": "FloatProgressModel",
          "model_module_version": "1.5.0",
          "state": {
            "_dom_classes": [],
            "_model_module": "@jupyter-widgets/controls",
            "_model_module_version": "1.5.0",
            "_model_name": "FloatProgressModel",
            "_view_count": null,
            "_view_module": "@jupyter-widgets/controls",
            "_view_module_version": "1.5.0",
            "_view_name": "ProgressView",
            "bar_style": "success",
            "description": "",
            "description_tooltip": null,
            "layout": "IPY_MODEL_4678cdd8c98e43609409f5c133d5bb76",
            "max": 9912422,
            "min": 0,
            "orientation": "horizontal",
            "style": "IPY_MODEL_f81601c5d04647dcab124e5f354cf819",
            "value": 9912422
          }
        },
        "6b993c36c06e4faaba7d196fad6b1b80": {
          "model_module": "@jupyter-widgets/controls",
          "model_name": "HTMLModel",
          "model_module_version": "1.5.0",
          "state": {
            "_dom_classes": [],
            "_model_module": "@jupyter-widgets/controls",
            "_model_module_version": "1.5.0",
            "_model_name": "HTMLModel",
            "_view_count": null,
            "_view_module": "@jupyter-widgets/controls",
            "_view_module_version": "1.5.0",
            "_view_name": "HTMLView",
            "description": "",
            "description_tooltip": null,
            "layout": "IPY_MODEL_83be703d9fd64612907dcb7388becdc1",
            "placeholder": "​",
            "style": "IPY_MODEL_9595b3934d9e478cbb0edf22e60ca721",
            "value": " 9912422/9912422 [00:00&lt;00:00, 159808238.18it/s]"
          }
        },
        "83868ac4a6254c968b9c4aa9efd0b18b": {
          "model_module": "@jupyter-widgets/base",
          "model_name": "LayoutModel",
          "model_module_version": "1.2.0",
          "state": {
            "_model_module": "@jupyter-widgets/base",
            "_model_module_version": "1.2.0",
            "_model_name": "LayoutModel",
            "_view_count": null,
            "_view_module": "@jupyter-widgets/base",
            "_view_module_version": "1.2.0",
            "_view_name": "LayoutView",
            "align_content": null,
            "align_items": null,
            "align_self": null,
            "border": null,
            "bottom": null,
            "display": null,
            "flex": null,
            "flex_flow": null,
            "grid_area": null,
            "grid_auto_columns": null,
            "grid_auto_flow": null,
            "grid_auto_rows": null,
            "grid_column": null,
            "grid_gap": null,
            "grid_row": null,
            "grid_template_areas": null,
            "grid_template_columns": null,
            "grid_template_rows": null,
            "height": null,
            "justify_content": null,
            "justify_items": null,
            "left": null,
            "margin": null,
            "max_height": null,
            "max_width": null,
            "min_height": null,
            "min_width": null,
            "object_fit": null,
            "object_position": null,
            "order": null,
            "overflow": null,
            "overflow_x": null,
            "overflow_y": null,
            "padding": null,
            "right": null,
            "top": null,
            "visibility": null,
            "width": null
          }
        },
        "30f8fcef9ea54e53a7a11b1096d5f611": {
          "model_module": "@jupyter-widgets/base",
          "model_name": "LayoutModel",
          "model_module_version": "1.2.0",
          "state": {
            "_model_module": "@jupyter-widgets/base",
            "_model_module_version": "1.2.0",
            "_model_name": "LayoutModel",
            "_view_count": null,
            "_view_module": "@jupyter-widgets/base",
            "_view_module_version": "1.2.0",
            "_view_name": "LayoutView",
            "align_content": null,
            "align_items": null,
            "align_self": null,
            "border": null,
            "bottom": null,
            "display": null,
            "flex": null,
            "flex_flow": null,
            "grid_area": null,
            "grid_auto_columns": null,
            "grid_auto_flow": null,
            "grid_auto_rows": null,
            "grid_column": null,
            "grid_gap": null,
            "grid_row": null,
            "grid_template_areas": null,
            "grid_template_columns": null,
            "grid_template_rows": null,
            "height": null,
            "justify_content": null,
            "justify_items": null,
            "left": null,
            "margin": null,
            "max_height": null,
            "max_width": null,
            "min_height": null,
            "min_width": null,
            "object_fit": null,
            "object_position": null,
            "order": null,
            "overflow": null,
            "overflow_x": null,
            "overflow_y": null,
            "padding": null,
            "right": null,
            "top": null,
            "visibility": null,
            "width": null
          }
        },
        "6ab302e8816a4c5cb04e809991ddc421": {
          "model_module": "@jupyter-widgets/controls",
          "model_name": "DescriptionStyleModel",
          "model_module_version": "1.5.0",
          "state": {
            "_model_module": "@jupyter-widgets/controls",
            "_model_module_version": "1.5.0",
            "_model_name": "DescriptionStyleModel",
            "_view_count": null,
            "_view_module": "@jupyter-widgets/base",
            "_view_module_version": "1.2.0",
            "_view_name": "StyleView",
            "description_width": ""
          }
        },
        "4678cdd8c98e43609409f5c133d5bb76": {
          "model_module": "@jupyter-widgets/base",
          "model_name": "LayoutModel",
          "model_module_version": "1.2.0",
          "state": {
            "_model_module": "@jupyter-widgets/base",
            "_model_module_version": "1.2.0",
            "_model_name": "LayoutModel",
            "_view_count": null,
            "_view_module": "@jupyter-widgets/base",
            "_view_module_version": "1.2.0",
            "_view_name": "LayoutView",
            "align_content": null,
            "align_items": null,
            "align_self": null,
            "border": null,
            "bottom": null,
            "display": null,
            "flex": null,
            "flex_flow": null,
            "grid_area": null,
            "grid_auto_columns": null,
            "grid_auto_flow": null,
            "grid_auto_rows": null,
            "grid_column": null,
            "grid_gap": null,
            "grid_row": null,
            "grid_template_areas": null,
            "grid_template_columns": null,
            "grid_template_rows": null,
            "height": null,
            "justify_content": null,
            "justify_items": null,
            "left": null,
            "margin": null,
            "max_height": null,
            "max_width": null,
            "min_height": null,
            "min_width": null,
            "object_fit": null,
            "object_position": null,
            "order": null,
            "overflow": null,
            "overflow_x": null,
            "overflow_y": null,
            "padding": null,
            "right": null,
            "top": null,
            "visibility": null,
            "width": null
          }
        },
        "f81601c5d04647dcab124e5f354cf819": {
          "model_module": "@jupyter-widgets/controls",
          "model_name": "ProgressStyleModel",
          "model_module_version": "1.5.0",
          "state": {
            "_model_module": "@jupyter-widgets/controls",
            "_model_module_version": "1.5.0",
            "_model_name": "ProgressStyleModel",
            "_view_count": null,
            "_view_module": "@jupyter-widgets/base",
            "_view_module_version": "1.2.0",
            "_view_name": "StyleView",
            "bar_color": null,
            "description_width": ""
          }
        },
        "83be703d9fd64612907dcb7388becdc1": {
          "model_module": "@jupyter-widgets/base",
          "model_name": "LayoutModel",
          "model_module_version": "1.2.0",
          "state": {
            "_model_module": "@jupyter-widgets/base",
            "_model_module_version": "1.2.0",
            "_model_name": "LayoutModel",
            "_view_count": null,
            "_view_module": "@jupyter-widgets/base",
            "_view_module_version": "1.2.0",
            "_view_name": "LayoutView",
            "align_content": null,
            "align_items": null,
            "align_self": null,
            "border": null,
            "bottom": null,
            "display": null,
            "flex": null,
            "flex_flow": null,
            "grid_area": null,
            "grid_auto_columns": null,
            "grid_auto_flow": null,
            "grid_auto_rows": null,
            "grid_column": null,
            "grid_gap": null,
            "grid_row": null,
            "grid_template_areas": null,
            "grid_template_columns": null,
            "grid_template_rows": null,
            "height": null,
            "justify_content": null,
            "justify_items": null,
            "left": null,
            "margin": null,
            "max_height": null,
            "max_width": null,
            "min_height": null,
            "min_width": null,
            "object_fit": null,
            "object_position": null,
            "order": null,
            "overflow": null,
            "overflow_x": null,
            "overflow_y": null,
            "padding": null,
            "right": null,
            "top": null,
            "visibility": null,
            "width": null
          }
        },
        "9595b3934d9e478cbb0edf22e60ca721": {
          "model_module": "@jupyter-widgets/controls",
          "model_name": "DescriptionStyleModel",
          "model_module_version": "1.5.0",
          "state": {
            "_model_module": "@jupyter-widgets/controls",
            "_model_module_version": "1.5.0",
            "_model_name": "DescriptionStyleModel",
            "_view_count": null,
            "_view_module": "@jupyter-widgets/base",
            "_view_module_version": "1.2.0",
            "_view_name": "StyleView",
            "description_width": ""
          }
        },
        "ba3a729bc8af493587326f761f49af42": {
          "model_module": "@jupyter-widgets/controls",
          "model_name": "HBoxModel",
          "model_module_version": "1.5.0",
          "state": {
            "_dom_classes": [],
            "_model_module": "@jupyter-widgets/controls",
            "_model_module_version": "1.5.0",
            "_model_name": "HBoxModel",
            "_view_count": null,
            "_view_module": "@jupyter-widgets/controls",
            "_view_module_version": "1.5.0",
            "_view_name": "HBoxView",
            "box_style": "",
            "children": [
              "IPY_MODEL_bf8094684e0647ac8de820cf6f04d174",
              "IPY_MODEL_c3b9bc7b8b3846878a0520214a3a87cb",
              "IPY_MODEL_70726be6f10d47bfaa0c86e9c04d97ee"
            ],
            "layout": "IPY_MODEL_602f9188722745bba675f513ff2bc1ad"
          }
        },
        "bf8094684e0647ac8de820cf6f04d174": {
          "model_module": "@jupyter-widgets/controls",
          "model_name": "HTMLModel",
          "model_module_version": "1.5.0",
          "state": {
            "_dom_classes": [],
            "_model_module": "@jupyter-widgets/controls",
            "_model_module_version": "1.5.0",
            "_model_name": "HTMLModel",
            "_view_count": null,
            "_view_module": "@jupyter-widgets/controls",
            "_view_module_version": "1.5.0",
            "_view_name": "HTMLView",
            "description": "",
            "description_tooltip": null,
            "layout": "IPY_MODEL_458b26eca1f4409e8db814865c348817",
            "placeholder": "​",
            "style": "IPY_MODEL_8179ec1d8af44cdab99c15ea17f4ffc4",
            "value": "100%"
          }
        },
        "c3b9bc7b8b3846878a0520214a3a87cb": {
          "model_module": "@jupyter-widgets/controls",
          "model_name": "FloatProgressModel",
          "model_module_version": "1.5.0",
          "state": {
            "_dom_classes": [],
            "_model_module": "@jupyter-widgets/controls",
            "_model_module_version": "1.5.0",
            "_model_name": "FloatProgressModel",
            "_view_count": null,
            "_view_module": "@jupyter-widgets/controls",
            "_view_module_version": "1.5.0",
            "_view_name": "ProgressView",
            "bar_style": "success",
            "description": "",
            "description_tooltip": null,
            "layout": "IPY_MODEL_21fb5a21e55b4cebad4df730aa7861a4",
            "max": 28881,
            "min": 0,
            "orientation": "horizontal",
            "style": "IPY_MODEL_807cc2450da04905ab8335babac74473",
            "value": 28881
          }
        },
        "70726be6f10d47bfaa0c86e9c04d97ee": {
          "model_module": "@jupyter-widgets/controls",
          "model_name": "HTMLModel",
          "model_module_version": "1.5.0",
          "state": {
            "_dom_classes": [],
            "_model_module": "@jupyter-widgets/controls",
            "_model_module_version": "1.5.0",
            "_model_name": "HTMLModel",
            "_view_count": null,
            "_view_module": "@jupyter-widgets/controls",
            "_view_module_version": "1.5.0",
            "_view_name": "HTMLView",
            "description": "",
            "description_tooltip": null,
            "layout": "IPY_MODEL_b562231fb04d4c6aa2911a5b0d8277c6",
            "placeholder": "​",
            "style": "IPY_MODEL_2924fee1f4e04f778ef47cb86ad9001c",
            "value": " 28881/28881 [00:00&lt;00:00, 2152375.51it/s]"
          }
        },
        "602f9188722745bba675f513ff2bc1ad": {
          "model_module": "@jupyter-widgets/base",
          "model_name": "LayoutModel",
          "model_module_version": "1.2.0",
          "state": {
            "_model_module": "@jupyter-widgets/base",
            "_model_module_version": "1.2.0",
            "_model_name": "LayoutModel",
            "_view_count": null,
            "_view_module": "@jupyter-widgets/base",
            "_view_module_version": "1.2.0",
            "_view_name": "LayoutView",
            "align_content": null,
            "align_items": null,
            "align_self": null,
            "border": null,
            "bottom": null,
            "display": null,
            "flex": null,
            "flex_flow": null,
            "grid_area": null,
            "grid_auto_columns": null,
            "grid_auto_flow": null,
            "grid_auto_rows": null,
            "grid_column": null,
            "grid_gap": null,
            "grid_row": null,
            "grid_template_areas": null,
            "grid_template_columns": null,
            "grid_template_rows": null,
            "height": null,
            "justify_content": null,
            "justify_items": null,
            "left": null,
            "margin": null,
            "max_height": null,
            "max_width": null,
            "min_height": null,
            "min_width": null,
            "object_fit": null,
            "object_position": null,
            "order": null,
            "overflow": null,
            "overflow_x": null,
            "overflow_y": null,
            "padding": null,
            "right": null,
            "top": null,
            "visibility": null,
            "width": null
          }
        },
        "458b26eca1f4409e8db814865c348817": {
          "model_module": "@jupyter-widgets/base",
          "model_name": "LayoutModel",
          "model_module_version": "1.2.0",
          "state": {
            "_model_module": "@jupyter-widgets/base",
            "_model_module_version": "1.2.0",
            "_model_name": "LayoutModel",
            "_view_count": null,
            "_view_module": "@jupyter-widgets/base",
            "_view_module_version": "1.2.0",
            "_view_name": "LayoutView",
            "align_content": null,
            "align_items": null,
            "align_self": null,
            "border": null,
            "bottom": null,
            "display": null,
            "flex": null,
            "flex_flow": null,
            "grid_area": null,
            "grid_auto_columns": null,
            "grid_auto_flow": null,
            "grid_auto_rows": null,
            "grid_column": null,
            "grid_gap": null,
            "grid_row": null,
            "grid_template_areas": null,
            "grid_template_columns": null,
            "grid_template_rows": null,
            "height": null,
            "justify_content": null,
            "justify_items": null,
            "left": null,
            "margin": null,
            "max_height": null,
            "max_width": null,
            "min_height": null,
            "min_width": null,
            "object_fit": null,
            "object_position": null,
            "order": null,
            "overflow": null,
            "overflow_x": null,
            "overflow_y": null,
            "padding": null,
            "right": null,
            "top": null,
            "visibility": null,
            "width": null
          }
        },
        "8179ec1d8af44cdab99c15ea17f4ffc4": {
          "model_module": "@jupyter-widgets/controls",
          "model_name": "DescriptionStyleModel",
          "model_module_version": "1.5.0",
          "state": {
            "_model_module": "@jupyter-widgets/controls",
            "_model_module_version": "1.5.0",
            "_model_name": "DescriptionStyleModel",
            "_view_count": null,
            "_view_module": "@jupyter-widgets/base",
            "_view_module_version": "1.2.0",
            "_view_name": "StyleView",
            "description_width": ""
          }
        },
        "21fb5a21e55b4cebad4df730aa7861a4": {
          "model_module": "@jupyter-widgets/base",
          "model_name": "LayoutModel",
          "model_module_version": "1.2.0",
          "state": {
            "_model_module": "@jupyter-widgets/base",
            "_model_module_version": "1.2.0",
            "_model_name": "LayoutModel",
            "_view_count": null,
            "_view_module": "@jupyter-widgets/base",
            "_view_module_version": "1.2.0",
            "_view_name": "LayoutView",
            "align_content": null,
            "align_items": null,
            "align_self": null,
            "border": null,
            "bottom": null,
            "display": null,
            "flex": null,
            "flex_flow": null,
            "grid_area": null,
            "grid_auto_columns": null,
            "grid_auto_flow": null,
            "grid_auto_rows": null,
            "grid_column": null,
            "grid_gap": null,
            "grid_row": null,
            "grid_template_areas": null,
            "grid_template_columns": null,
            "grid_template_rows": null,
            "height": null,
            "justify_content": null,
            "justify_items": null,
            "left": null,
            "margin": null,
            "max_height": null,
            "max_width": null,
            "min_height": null,
            "min_width": null,
            "object_fit": null,
            "object_position": null,
            "order": null,
            "overflow": null,
            "overflow_x": null,
            "overflow_y": null,
            "padding": null,
            "right": null,
            "top": null,
            "visibility": null,
            "width": null
          }
        },
        "807cc2450da04905ab8335babac74473": {
          "model_module": "@jupyter-widgets/controls",
          "model_name": "ProgressStyleModel",
          "model_module_version": "1.5.0",
          "state": {
            "_model_module": "@jupyter-widgets/controls",
            "_model_module_version": "1.5.0",
            "_model_name": "ProgressStyleModel",
            "_view_count": null,
            "_view_module": "@jupyter-widgets/base",
            "_view_module_version": "1.2.0",
            "_view_name": "StyleView",
            "bar_color": null,
            "description_width": ""
          }
        },
        "b562231fb04d4c6aa2911a5b0d8277c6": {
          "model_module": "@jupyter-widgets/base",
          "model_name": "LayoutModel",
          "model_module_version": "1.2.0",
          "state": {
            "_model_module": "@jupyter-widgets/base",
            "_model_module_version": "1.2.0",
            "_model_name": "LayoutModel",
            "_view_count": null,
            "_view_module": "@jupyter-widgets/base",
            "_view_module_version": "1.2.0",
            "_view_name": "LayoutView",
            "align_content": null,
            "align_items": null,
            "align_self": null,
            "border": null,
            "bottom": null,
            "display": null,
            "flex": null,
            "flex_flow": null,
            "grid_area": null,
            "grid_auto_columns": null,
            "grid_auto_flow": null,
            "grid_auto_rows": null,
            "grid_column": null,
            "grid_gap": null,
            "grid_row": null,
            "grid_template_areas": null,
            "grid_template_columns": null,
            "grid_template_rows": null,
            "height": null,
            "justify_content": null,
            "justify_items": null,
            "left": null,
            "margin": null,
            "max_height": null,
            "max_width": null,
            "min_height": null,
            "min_width": null,
            "object_fit": null,
            "object_position": null,
            "order": null,
            "overflow": null,
            "overflow_x": null,
            "overflow_y": null,
            "padding": null,
            "right": null,
            "top": null,
            "visibility": null,
            "width": null
          }
        },
        "2924fee1f4e04f778ef47cb86ad9001c": {
          "model_module": "@jupyter-widgets/controls",
          "model_name": "DescriptionStyleModel",
          "model_module_version": "1.5.0",
          "state": {
            "_model_module": "@jupyter-widgets/controls",
            "_model_module_version": "1.5.0",
            "_model_name": "DescriptionStyleModel",
            "_view_count": null,
            "_view_module": "@jupyter-widgets/base",
            "_view_module_version": "1.2.0",
            "_view_name": "StyleView",
            "description_width": ""
          }
        },
        "ec15134304c34ce59f905a8da11f3f2f": {
          "model_module": "@jupyter-widgets/controls",
          "model_name": "HBoxModel",
          "model_module_version": "1.5.0",
          "state": {
            "_dom_classes": [],
            "_model_module": "@jupyter-widgets/controls",
            "_model_module_version": "1.5.0",
            "_model_name": "HBoxModel",
            "_view_count": null,
            "_view_module": "@jupyter-widgets/controls",
            "_view_module_version": "1.5.0",
            "_view_name": "HBoxView",
            "box_style": "",
            "children": [
              "IPY_MODEL_3dc20953b54a487eaeaea3c293cb3500",
              "IPY_MODEL_e65012b0b4b744ef9d53848d6260cdf0",
              "IPY_MODEL_71ad3cc387f74aa78c381b0bf4686193"
            ],
            "layout": "IPY_MODEL_a4f7d67fa2574988aba96155683ac9e2"
          }
        },
        "3dc20953b54a487eaeaea3c293cb3500": {
          "model_module": "@jupyter-widgets/controls",
          "model_name": "HTMLModel",
          "model_module_version": "1.5.0",
          "state": {
            "_dom_classes": [],
            "_model_module": "@jupyter-widgets/controls",
            "_model_module_version": "1.5.0",
            "_model_name": "HTMLModel",
            "_view_count": null,
            "_view_module": "@jupyter-widgets/controls",
            "_view_module_version": "1.5.0",
            "_view_name": "HTMLView",
            "description": "",
            "description_tooltip": null,
            "layout": "IPY_MODEL_113ba48330fa410d9b36aaae9035ee4d",
            "placeholder": "​",
            "style": "IPY_MODEL_d61031f37599420783f95d6e9b4a9882",
            "value": "100%"
          }
        },
        "e65012b0b4b744ef9d53848d6260cdf0": {
          "model_module": "@jupyter-widgets/controls",
          "model_name": "FloatProgressModel",
          "model_module_version": "1.5.0",
          "state": {
            "_dom_classes": [],
            "_model_module": "@jupyter-widgets/controls",
            "_model_module_version": "1.5.0",
            "_model_name": "FloatProgressModel",
            "_view_count": null,
            "_view_module": "@jupyter-widgets/controls",
            "_view_module_version": "1.5.0",
            "_view_name": "ProgressView",
            "bar_style": "success",
            "description": "",
            "description_tooltip": null,
            "layout": "IPY_MODEL_0ba6856b11664bc5b0a8a4f6e3a8805c",
            "max": 1648877,
            "min": 0,
            "orientation": "horizontal",
            "style": "IPY_MODEL_af06644471c24f5bb080462088e8c9f2",
            "value": 1648877
          }
        },
        "71ad3cc387f74aa78c381b0bf4686193": {
          "model_module": "@jupyter-widgets/controls",
          "model_name": "HTMLModel",
          "model_module_version": "1.5.0",
          "state": {
            "_dom_classes": [],
            "_model_module": "@jupyter-widgets/controls",
            "_model_module_version": "1.5.0",
            "_model_name": "HTMLModel",
            "_view_count": null,
            "_view_module": "@jupyter-widgets/controls",
            "_view_module_version": "1.5.0",
            "_view_name": "HTMLView",
            "description": "",
            "description_tooltip": null,
            "layout": "IPY_MODEL_341e1990169446c18d3fa14e1909071d",
            "placeholder": "​",
            "style": "IPY_MODEL_da6d2bb2143f40c491990ed4ed6d845e",
            "value": " 1648877/1648877 [00:00&lt;00:00, 41223192.86it/s]"
          }
        },
        "a4f7d67fa2574988aba96155683ac9e2": {
          "model_module": "@jupyter-widgets/base",
          "model_name": "LayoutModel",
          "model_module_version": "1.2.0",
          "state": {
            "_model_module": "@jupyter-widgets/base",
            "_model_module_version": "1.2.0",
            "_model_name": "LayoutModel",
            "_view_count": null,
            "_view_module": "@jupyter-widgets/base",
            "_view_module_version": "1.2.0",
            "_view_name": "LayoutView",
            "align_content": null,
            "align_items": null,
            "align_self": null,
            "border": null,
            "bottom": null,
            "display": null,
            "flex": null,
            "flex_flow": null,
            "grid_area": null,
            "grid_auto_columns": null,
            "grid_auto_flow": null,
            "grid_auto_rows": null,
            "grid_column": null,
            "grid_gap": null,
            "grid_row": null,
            "grid_template_areas": null,
            "grid_template_columns": null,
            "grid_template_rows": null,
            "height": null,
            "justify_content": null,
            "justify_items": null,
            "left": null,
            "margin": null,
            "max_height": null,
            "max_width": null,
            "min_height": null,
            "min_width": null,
            "object_fit": null,
            "object_position": null,
            "order": null,
            "overflow": null,
            "overflow_x": null,
            "overflow_y": null,
            "padding": null,
            "right": null,
            "top": null,
            "visibility": null,
            "width": null
          }
        },
        "113ba48330fa410d9b36aaae9035ee4d": {
          "model_module": "@jupyter-widgets/base",
          "model_name": "LayoutModel",
          "model_module_version": "1.2.0",
          "state": {
            "_model_module": "@jupyter-widgets/base",
            "_model_module_version": "1.2.0",
            "_model_name": "LayoutModel",
            "_view_count": null,
            "_view_module": "@jupyter-widgets/base",
            "_view_module_version": "1.2.0",
            "_view_name": "LayoutView",
            "align_content": null,
            "align_items": null,
            "align_self": null,
            "border": null,
            "bottom": null,
            "display": null,
            "flex": null,
            "flex_flow": null,
            "grid_area": null,
            "grid_auto_columns": null,
            "grid_auto_flow": null,
            "grid_auto_rows": null,
            "grid_column": null,
            "grid_gap": null,
            "grid_row": null,
            "grid_template_areas": null,
            "grid_template_columns": null,
            "grid_template_rows": null,
            "height": null,
            "justify_content": null,
            "justify_items": null,
            "left": null,
            "margin": null,
            "max_height": null,
            "max_width": null,
            "min_height": null,
            "min_width": null,
            "object_fit": null,
            "object_position": null,
            "order": null,
            "overflow": null,
            "overflow_x": null,
            "overflow_y": null,
            "padding": null,
            "right": null,
            "top": null,
            "visibility": null,
            "width": null
          }
        },
        "d61031f37599420783f95d6e9b4a9882": {
          "model_module": "@jupyter-widgets/controls",
          "model_name": "DescriptionStyleModel",
          "model_module_version": "1.5.0",
          "state": {
            "_model_module": "@jupyter-widgets/controls",
            "_model_module_version": "1.5.0",
            "_model_name": "DescriptionStyleModel",
            "_view_count": null,
            "_view_module": "@jupyter-widgets/base",
            "_view_module_version": "1.2.0",
            "_view_name": "StyleView",
            "description_width": ""
          }
        },
        "0ba6856b11664bc5b0a8a4f6e3a8805c": {
          "model_module": "@jupyter-widgets/base",
          "model_name": "LayoutModel",
          "model_module_version": "1.2.0",
          "state": {
            "_model_module": "@jupyter-widgets/base",
            "_model_module_version": "1.2.0",
            "_model_name": "LayoutModel",
            "_view_count": null,
            "_view_module": "@jupyter-widgets/base",
            "_view_module_version": "1.2.0",
            "_view_name": "LayoutView",
            "align_content": null,
            "align_items": null,
            "align_self": null,
            "border": null,
            "bottom": null,
            "display": null,
            "flex": null,
            "flex_flow": null,
            "grid_area": null,
            "grid_auto_columns": null,
            "grid_auto_flow": null,
            "grid_auto_rows": null,
            "grid_column": null,
            "grid_gap": null,
            "grid_row": null,
            "grid_template_areas": null,
            "grid_template_columns": null,
            "grid_template_rows": null,
            "height": null,
            "justify_content": null,
            "justify_items": null,
            "left": null,
            "margin": null,
            "max_height": null,
            "max_width": null,
            "min_height": null,
            "min_width": null,
            "object_fit": null,
            "object_position": null,
            "order": null,
            "overflow": null,
            "overflow_x": null,
            "overflow_y": null,
            "padding": null,
            "right": null,
            "top": null,
            "visibility": null,
            "width": null
          }
        },
        "af06644471c24f5bb080462088e8c9f2": {
          "model_module": "@jupyter-widgets/controls",
          "model_name": "ProgressStyleModel",
          "model_module_version": "1.5.0",
          "state": {
            "_model_module": "@jupyter-widgets/controls",
            "_model_module_version": "1.5.0",
            "_model_name": "ProgressStyleModel",
            "_view_count": null,
            "_view_module": "@jupyter-widgets/base",
            "_view_module_version": "1.2.0",
            "_view_name": "StyleView",
            "bar_color": null,
            "description_width": ""
          }
        },
        "341e1990169446c18d3fa14e1909071d": {
          "model_module": "@jupyter-widgets/base",
          "model_name": "LayoutModel",
          "model_module_version": "1.2.0",
          "state": {
            "_model_module": "@jupyter-widgets/base",
            "_model_module_version": "1.2.0",
            "_model_name": "LayoutModel",
            "_view_count": null,
            "_view_module": "@jupyter-widgets/base",
            "_view_module_version": "1.2.0",
            "_view_name": "LayoutView",
            "align_content": null,
            "align_items": null,
            "align_self": null,
            "border": null,
            "bottom": null,
            "display": null,
            "flex": null,
            "flex_flow": null,
            "grid_area": null,
            "grid_auto_columns": null,
            "grid_auto_flow": null,
            "grid_auto_rows": null,
            "grid_column": null,
            "grid_gap": null,
            "grid_row": null,
            "grid_template_areas": null,
            "grid_template_columns": null,
            "grid_template_rows": null,
            "height": null,
            "justify_content": null,
            "justify_items": null,
            "left": null,
            "margin": null,
            "max_height": null,
            "max_width": null,
            "min_height": null,
            "min_width": null,
            "object_fit": null,
            "object_position": null,
            "order": null,
            "overflow": null,
            "overflow_x": null,
            "overflow_y": null,
            "padding": null,
            "right": null,
            "top": null,
            "visibility": null,
            "width": null
          }
        },
        "da6d2bb2143f40c491990ed4ed6d845e": {
          "model_module": "@jupyter-widgets/controls",
          "model_name": "DescriptionStyleModel",
          "model_module_version": "1.5.0",
          "state": {
            "_model_module": "@jupyter-widgets/controls",
            "_model_module_version": "1.5.0",
            "_model_name": "DescriptionStyleModel",
            "_view_count": null,
            "_view_module": "@jupyter-widgets/base",
            "_view_module_version": "1.2.0",
            "_view_name": "StyleView",
            "description_width": ""
          }
        },
        "cc57e440420f48308828b45028046d21": {
          "model_module": "@jupyter-widgets/controls",
          "model_name": "HBoxModel",
          "model_module_version": "1.5.0",
          "state": {
            "_dom_classes": [],
            "_model_module": "@jupyter-widgets/controls",
            "_model_module_version": "1.5.0",
            "_model_name": "HBoxModel",
            "_view_count": null,
            "_view_module": "@jupyter-widgets/controls",
            "_view_module_version": "1.5.0",
            "_view_name": "HBoxView",
            "box_style": "",
            "children": [
              "IPY_MODEL_f1b0baad52c54720852dfbba0085a497",
              "IPY_MODEL_d4fb8daf4ad445a289b73d815131823d",
              "IPY_MODEL_8d82380b782845acb2d5dcb4688cfc8c"
            ],
            "layout": "IPY_MODEL_80682d397dea42d281f2ca11eedc47b6"
          }
        },
        "f1b0baad52c54720852dfbba0085a497": {
          "model_module": "@jupyter-widgets/controls",
          "model_name": "HTMLModel",
          "model_module_version": "1.5.0",
          "state": {
            "_dom_classes": [],
            "_model_module": "@jupyter-widgets/controls",
            "_model_module_version": "1.5.0",
            "_model_name": "HTMLModel",
            "_view_count": null,
            "_view_module": "@jupyter-widgets/controls",
            "_view_module_version": "1.5.0",
            "_view_name": "HTMLView",
            "description": "",
            "description_tooltip": null,
            "layout": "IPY_MODEL_44822f3bcc384805af7bfdcf286b3746",
            "placeholder": "​",
            "style": "IPY_MODEL_3b664be33dc74ab19eb7de501a3903f2",
            "value": "100%"
          }
        },
        "d4fb8daf4ad445a289b73d815131823d": {
          "model_module": "@jupyter-widgets/controls",
          "model_name": "FloatProgressModel",
          "model_module_version": "1.5.0",
          "state": {
            "_dom_classes": [],
            "_model_module": "@jupyter-widgets/controls",
            "_model_module_version": "1.5.0",
            "_model_name": "FloatProgressModel",
            "_view_count": null,
            "_view_module": "@jupyter-widgets/controls",
            "_view_module_version": "1.5.0",
            "_view_name": "ProgressView",
            "bar_style": "success",
            "description": "",
            "description_tooltip": null,
            "layout": "IPY_MODEL_df5c22e3cbc746daa2b6f12030217f4c",
            "max": 4542,
            "min": 0,
            "orientation": "horizontal",
            "style": "IPY_MODEL_fd47bad2e13f4b6c84a5128d8f042337",
            "value": 4542
          }
        },
        "8d82380b782845acb2d5dcb4688cfc8c": {
          "model_module": "@jupyter-widgets/controls",
          "model_name": "HTMLModel",
          "model_module_version": "1.5.0",
          "state": {
            "_dom_classes": [],
            "_model_module": "@jupyter-widgets/controls",
            "_model_module_version": "1.5.0",
            "_model_name": "HTMLModel",
            "_view_count": null,
            "_view_module": "@jupyter-widgets/controls",
            "_view_module_version": "1.5.0",
            "_view_name": "HTMLView",
            "description": "",
            "description_tooltip": null,
            "layout": "IPY_MODEL_85579e2f662c4ffdbd02271a8e78f170",
            "placeholder": "​",
            "style": "IPY_MODEL_9c0b964bbe184fc1bd1f5a27aaf5bc3c",
            "value": " 4542/4542 [00:00&lt;00:00, 181416.33it/s]"
          }
        },
        "80682d397dea42d281f2ca11eedc47b6": {
          "model_module": "@jupyter-widgets/base",
          "model_name": "LayoutModel",
          "model_module_version": "1.2.0",
          "state": {
            "_model_module": "@jupyter-widgets/base",
            "_model_module_version": "1.2.0",
            "_model_name": "LayoutModel",
            "_view_count": null,
            "_view_module": "@jupyter-widgets/base",
            "_view_module_version": "1.2.0",
            "_view_name": "LayoutView",
            "align_content": null,
            "align_items": null,
            "align_self": null,
            "border": null,
            "bottom": null,
            "display": null,
            "flex": null,
            "flex_flow": null,
            "grid_area": null,
            "grid_auto_columns": null,
            "grid_auto_flow": null,
            "grid_auto_rows": null,
            "grid_column": null,
            "grid_gap": null,
            "grid_row": null,
            "grid_template_areas": null,
            "grid_template_columns": null,
            "grid_template_rows": null,
            "height": null,
            "justify_content": null,
            "justify_items": null,
            "left": null,
            "margin": null,
            "max_height": null,
            "max_width": null,
            "min_height": null,
            "min_width": null,
            "object_fit": null,
            "object_position": null,
            "order": null,
            "overflow": null,
            "overflow_x": null,
            "overflow_y": null,
            "padding": null,
            "right": null,
            "top": null,
            "visibility": null,
            "width": null
          }
        },
        "44822f3bcc384805af7bfdcf286b3746": {
          "model_module": "@jupyter-widgets/base",
          "model_name": "LayoutModel",
          "model_module_version": "1.2.0",
          "state": {
            "_model_module": "@jupyter-widgets/base",
            "_model_module_version": "1.2.0",
            "_model_name": "LayoutModel",
            "_view_count": null,
            "_view_module": "@jupyter-widgets/base",
            "_view_module_version": "1.2.0",
            "_view_name": "LayoutView",
            "align_content": null,
            "align_items": null,
            "align_self": null,
            "border": null,
            "bottom": null,
            "display": null,
            "flex": null,
            "flex_flow": null,
            "grid_area": null,
            "grid_auto_columns": null,
            "grid_auto_flow": null,
            "grid_auto_rows": null,
            "grid_column": null,
            "grid_gap": null,
            "grid_row": null,
            "grid_template_areas": null,
            "grid_template_columns": null,
            "grid_template_rows": null,
            "height": null,
            "justify_content": null,
            "justify_items": null,
            "left": null,
            "margin": null,
            "max_height": null,
            "max_width": null,
            "min_height": null,
            "min_width": null,
            "object_fit": null,
            "object_position": null,
            "order": null,
            "overflow": null,
            "overflow_x": null,
            "overflow_y": null,
            "padding": null,
            "right": null,
            "top": null,
            "visibility": null,
            "width": null
          }
        },
        "3b664be33dc74ab19eb7de501a3903f2": {
          "model_module": "@jupyter-widgets/controls",
          "model_name": "DescriptionStyleModel",
          "model_module_version": "1.5.0",
          "state": {
            "_model_module": "@jupyter-widgets/controls",
            "_model_module_version": "1.5.0",
            "_model_name": "DescriptionStyleModel",
            "_view_count": null,
            "_view_module": "@jupyter-widgets/base",
            "_view_module_version": "1.2.0",
            "_view_name": "StyleView",
            "description_width": ""
          }
        },
        "df5c22e3cbc746daa2b6f12030217f4c": {
          "model_module": "@jupyter-widgets/base",
          "model_name": "LayoutModel",
          "model_module_version": "1.2.0",
          "state": {
            "_model_module": "@jupyter-widgets/base",
            "_model_module_version": "1.2.0",
            "_model_name": "LayoutModel",
            "_view_count": null,
            "_view_module": "@jupyter-widgets/base",
            "_view_module_version": "1.2.0",
            "_view_name": "LayoutView",
            "align_content": null,
            "align_items": null,
            "align_self": null,
            "border": null,
            "bottom": null,
            "display": null,
            "flex": null,
            "flex_flow": null,
            "grid_area": null,
            "grid_auto_columns": null,
            "grid_auto_flow": null,
            "grid_auto_rows": null,
            "grid_column": null,
            "grid_gap": null,
            "grid_row": null,
            "grid_template_areas": null,
            "grid_template_columns": null,
            "grid_template_rows": null,
            "height": null,
            "justify_content": null,
            "justify_items": null,
            "left": null,
            "margin": null,
            "max_height": null,
            "max_width": null,
            "min_height": null,
            "min_width": null,
            "object_fit": null,
            "object_position": null,
            "order": null,
            "overflow": null,
            "overflow_x": null,
            "overflow_y": null,
            "padding": null,
            "right": null,
            "top": null,
            "visibility": null,
            "width": null
          }
        },
        "fd47bad2e13f4b6c84a5128d8f042337": {
          "model_module": "@jupyter-widgets/controls",
          "model_name": "ProgressStyleModel",
          "model_module_version": "1.5.0",
          "state": {
            "_model_module": "@jupyter-widgets/controls",
            "_model_module_version": "1.5.0",
            "_model_name": "ProgressStyleModel",
            "_view_count": null,
            "_view_module": "@jupyter-widgets/base",
            "_view_module_version": "1.2.0",
            "_view_name": "StyleView",
            "bar_color": null,
            "description_width": ""
          }
        },
        "85579e2f662c4ffdbd02271a8e78f170": {
          "model_module": "@jupyter-widgets/base",
          "model_name": "LayoutModel",
          "model_module_version": "1.2.0",
          "state": {
            "_model_module": "@jupyter-widgets/base",
            "_model_module_version": "1.2.0",
            "_model_name": "LayoutModel",
            "_view_count": null,
            "_view_module": "@jupyter-widgets/base",
            "_view_module_version": "1.2.0",
            "_view_name": "LayoutView",
            "align_content": null,
            "align_items": null,
            "align_self": null,
            "border": null,
            "bottom": null,
            "display": null,
            "flex": null,
            "flex_flow": null,
            "grid_area": null,
            "grid_auto_columns": null,
            "grid_auto_flow": null,
            "grid_auto_rows": null,
            "grid_column": null,
            "grid_gap": null,
            "grid_row": null,
            "grid_template_areas": null,
            "grid_template_columns": null,
            "grid_template_rows": null,
            "height": null,
            "justify_content": null,
            "justify_items": null,
            "left": null,
            "margin": null,
            "max_height": null,
            "max_width": null,
            "min_height": null,
            "min_width": null,
            "object_fit": null,
            "object_position": null,
            "order": null,
            "overflow": null,
            "overflow_x": null,
            "overflow_y": null,
            "padding": null,
            "right": null,
            "top": null,
            "visibility": null,
            "width": null
          }
        },
        "9c0b964bbe184fc1bd1f5a27aaf5bc3c": {
          "model_module": "@jupyter-widgets/controls",
          "model_name": "DescriptionStyleModel",
          "model_module_version": "1.5.0",
          "state": {
            "_model_module": "@jupyter-widgets/controls",
            "_model_module_version": "1.5.0",
            "_model_name": "DescriptionStyleModel",
            "_view_count": null,
            "_view_module": "@jupyter-widgets/base",
            "_view_module_version": "1.2.0",
            "_view_name": "StyleView",
            "description_width": ""
          }
        }
      }
    }
  },
  "cells": [
    {
      "cell_type": "markdown",
      "metadata": {
        "id": "RkkZZLnkM2w5"
      },
      "source": [
        "# CNN"
      ]
    },
    {
      "cell_type": "markdown",
      "source": [
        "### Setting\n",
        "---"
      ],
      "metadata": {
        "id": "_mgoqIfMFVs5"
      }
    },
    {
      "cell_type": "code",
      "metadata": {
        "id": "destLyXRM2w7"
      },
      "source": [
        "import numpy as np\n",
        "\n",
        "import torch\n",
        "import torch.nn as nn\n",
        "import torch.nn.functional as F\n",
        "import torch.optim as optim\n",
        "\n",
        "import torchvision\n",
        "from torchvision import datasets, models, transforms\n",
        "from torch.utils.data import Dataset, DataLoader\n",
        "\n",
        "import matplotlib.pyplot as plt\n",
        "%matplotlib inline"
      ],
      "execution_count": 1,
      "outputs": []
    },
    {
      "cell_type": "code",
      "metadata": {
        "id": "TzdpqMzxM2w-",
        "colab": {
          "base_uri": "https://localhost:8080/"
        },
        "outputId": "c66aa48e-3f95-4856-a190-ca8750b51158"
      },
      "source": [
        "if torch.cuda.is_available():\n",
        "    device = torch.device('cuda')          \n",
        "else:\n",
        "    device = torch.device('cpu')\n",
        "    \n",
        "print('device:', device)"
      ],
      "execution_count": 2,
      "outputs": [
        {
          "output_type": "stream",
          "name": "stdout",
          "text": [
            "device: cuda\n"
          ]
        }
      ]
    },
    {
      "cell_type": "markdown",
      "metadata": {
        "id": "MHvnJ1Q-M2xB"
      },
      "source": [
        "### Hyperparameters\n",
        "---\n",
        "하이퍼 파라미터를 바꿔 accuracy 95% 이상의 결과를 제출해주세요"
      ]
    },
    {
      "cell_type": "code",
      "source": [
        "num_classes = 10       # 분류 클래스 수 "
      ],
      "metadata": {
        "id": "EIVRLmmzXnXk"
      },
      "execution_count": 3,
      "outputs": []
    },
    {
      "cell_type": "code",
      "source": [
        "# 예시\n",
        "num_epochs_list = [10, 20, 30, 50]              # 에폭 수\n",
        "batch_size_list = [16, 32, 64, 128]             # 배치 사이즈\n",
        "learning_rate_list = [0.01, 0.05, 0.001, 0.005] # 학습률"
      ],
      "metadata": {
        "id": "r-Pkqf3yU7y6"
      },
      "execution_count": 4,
      "outputs": []
    },
    {
      "cell_type": "code",
      "metadata": {
        "id": "f2m0d9ZAM2xB"
      },
      "source": [
        "# 자유롭게 수정하셔도 됩니다\n",
        "num_epochs = num_epochs_list[0]        \n",
        "batch_size = batch_size_list[2]      \n",
        "learning_rate = learning_rate_list[2] "
      ],
      "execution_count": 5,
      "outputs": []
    },
    {
      "cell_type": "markdown",
      "metadata": {
        "id": "2EGLUfOSM2xD"
      },
      "source": [
        "### Load MNISTdataset\n",
        "---\n",
        "손글씨 0~9의 데이터셋입니다"
      ]
    },
    {
      "cell_type": "code",
      "metadata": {
        "id": "eJrQkkiWM2xE",
        "colab": {
          "base_uri": "https://localhost:8080/",
          "height": 444,
          "referenced_widgets": [
            "e29392a2123f458a84b501cec1ef34f3",
            "4e165a66d807444eaf043cc0c80c0077",
            "e949a5f3cb9446b58eb3cc7a0f3a7e57",
            "6b993c36c06e4faaba7d196fad6b1b80",
            "83868ac4a6254c968b9c4aa9efd0b18b",
            "30f8fcef9ea54e53a7a11b1096d5f611",
            "6ab302e8816a4c5cb04e809991ddc421",
            "4678cdd8c98e43609409f5c133d5bb76",
            "f81601c5d04647dcab124e5f354cf819",
            "83be703d9fd64612907dcb7388becdc1",
            "9595b3934d9e478cbb0edf22e60ca721",
            "ba3a729bc8af493587326f761f49af42",
            "bf8094684e0647ac8de820cf6f04d174",
            "c3b9bc7b8b3846878a0520214a3a87cb",
            "70726be6f10d47bfaa0c86e9c04d97ee",
            "602f9188722745bba675f513ff2bc1ad",
            "458b26eca1f4409e8db814865c348817",
            "8179ec1d8af44cdab99c15ea17f4ffc4",
            "21fb5a21e55b4cebad4df730aa7861a4",
            "807cc2450da04905ab8335babac74473",
            "b562231fb04d4c6aa2911a5b0d8277c6",
            "2924fee1f4e04f778ef47cb86ad9001c",
            "ec15134304c34ce59f905a8da11f3f2f",
            "3dc20953b54a487eaeaea3c293cb3500",
            "e65012b0b4b744ef9d53848d6260cdf0",
            "71ad3cc387f74aa78c381b0bf4686193",
            "a4f7d67fa2574988aba96155683ac9e2",
            "113ba48330fa410d9b36aaae9035ee4d",
            "d61031f37599420783f95d6e9b4a9882",
            "0ba6856b11664bc5b0a8a4f6e3a8805c",
            "af06644471c24f5bb080462088e8c9f2",
            "341e1990169446c18d3fa14e1909071d",
            "da6d2bb2143f40c491990ed4ed6d845e",
            "cc57e440420f48308828b45028046d21",
            "f1b0baad52c54720852dfbba0085a497",
            "d4fb8daf4ad445a289b73d815131823d",
            "8d82380b782845acb2d5dcb4688cfc8c",
            "80682d397dea42d281f2ca11eedc47b6",
            "44822f3bcc384805af7bfdcf286b3746",
            "3b664be33dc74ab19eb7de501a3903f2",
            "df5c22e3cbc746daa2b6f12030217f4c",
            "fd47bad2e13f4b6c84a5128d8f042337",
            "85579e2f662c4ffdbd02271a8e78f170",
            "9c0b964bbe184fc1bd1f5a27aaf5bc3c"
          ]
        },
        "outputId": "0ad7d62a-c9da-4b87-aa4c-537f23942020"
      },
      "source": [
        "# MNIST dataset\n",
        "train_dataset = torchvision.datasets.MNIST(root='./mnist_data/',\n",
        "                                           train=True, \n",
        "                                           transform=transforms.ToTensor(),\n",
        "                                           download=True)\n",
        "\n",
        "test_dataset = torchvision.datasets.MNIST(root='./mnist_data/',\n",
        "                                          train=False, \n",
        "                                          transform=transforms.ToTensor())\n",
        "\n",
        "# Data loader\n",
        "train_loader = torch.utils.data.DataLoader(dataset=train_dataset,\n",
        "                                           batch_size=batch_size, \n",
        "                                           shuffle=True)\n",
        "\n",
        "test_loader = torch.utils.data.DataLoader(dataset=test_dataset,\n",
        "                                          batch_size=batch_size, \n",
        "                                          shuffle=False)"
      ],
      "execution_count": 6,
      "outputs": [
        {
          "output_type": "stream",
          "name": "stdout",
          "text": [
            "Downloading http://yann.lecun.com/exdb/mnist/train-images-idx3-ubyte.gz\n",
            "Downloading http://yann.lecun.com/exdb/mnist/train-images-idx3-ubyte.gz to ./mnist_data/MNIST/raw/train-images-idx3-ubyte.gz\n"
          ]
        },
        {
          "output_type": "display_data",
          "data": {
            "text/plain": [
              "  0%|          | 0/9912422 [00:00<?, ?it/s]"
            ],
            "application/vnd.jupyter.widget-view+json": {
              "version_major": 2,
              "version_minor": 0,
              "model_id": "e29392a2123f458a84b501cec1ef34f3"
            }
          },
          "metadata": {}
        },
        {
          "output_type": "stream",
          "name": "stdout",
          "text": [
            "Extracting ./mnist_data/MNIST/raw/train-images-idx3-ubyte.gz to ./mnist_data/MNIST/raw\n",
            "\n",
            "Downloading http://yann.lecun.com/exdb/mnist/train-labels-idx1-ubyte.gz\n",
            "Downloading http://yann.lecun.com/exdb/mnist/train-labels-idx1-ubyte.gz to ./mnist_data/MNIST/raw/train-labels-idx1-ubyte.gz\n"
          ]
        },
        {
          "output_type": "display_data",
          "data": {
            "text/plain": [
              "  0%|          | 0/28881 [00:00<?, ?it/s]"
            ],
            "application/vnd.jupyter.widget-view+json": {
              "version_major": 2,
              "version_minor": 0,
              "model_id": "ba3a729bc8af493587326f761f49af42"
            }
          },
          "metadata": {}
        },
        {
          "output_type": "stream",
          "name": "stdout",
          "text": [
            "Extracting ./mnist_data/MNIST/raw/train-labels-idx1-ubyte.gz to ./mnist_data/MNIST/raw\n",
            "\n",
            "Downloading http://yann.lecun.com/exdb/mnist/t10k-images-idx3-ubyte.gz\n",
            "Downloading http://yann.lecun.com/exdb/mnist/t10k-images-idx3-ubyte.gz to ./mnist_data/MNIST/raw/t10k-images-idx3-ubyte.gz\n"
          ]
        },
        {
          "output_type": "display_data",
          "data": {
            "text/plain": [
              "  0%|          | 0/1648877 [00:00<?, ?it/s]"
            ],
            "application/vnd.jupyter.widget-view+json": {
              "version_major": 2,
              "version_minor": 0,
              "model_id": "ec15134304c34ce59f905a8da11f3f2f"
            }
          },
          "metadata": {}
        },
        {
          "output_type": "stream",
          "name": "stdout",
          "text": [
            "Extracting ./mnist_data/MNIST/raw/t10k-images-idx3-ubyte.gz to ./mnist_data/MNIST/raw\n",
            "\n",
            "Downloading http://yann.lecun.com/exdb/mnist/t10k-labels-idx1-ubyte.gz\n",
            "Downloading http://yann.lecun.com/exdb/mnist/t10k-labels-idx1-ubyte.gz to ./mnist_data/MNIST/raw/t10k-labels-idx1-ubyte.gz\n"
          ]
        },
        {
          "output_type": "display_data",
          "data": {
            "text/plain": [
              "  0%|          | 0/4542 [00:00<?, ?it/s]"
            ],
            "application/vnd.jupyter.widget-view+json": {
              "version_major": 2,
              "version_minor": 0,
              "model_id": "cc57e440420f48308828b45028046d21"
            }
          },
          "metadata": {}
        },
        {
          "output_type": "stream",
          "name": "stdout",
          "text": [
            "Extracting ./mnist_data/MNIST/raw/t10k-labels-idx1-ubyte.gz to ./mnist_data/MNIST/raw\n",
            "\n"
          ]
        }
      ]
    },
    {
      "cell_type": "markdown",
      "metadata": {
        "id": "O10KVzWYM2xG"
      },
      "source": [
        "### Progress monitor\n",
        "---"
      ]
    },
    {
      "cell_type": "code",
      "metadata": {
        "id": "wTX3NK7-M2xG"
      },
      "source": [
        "from IPython.display import HTML, display\n",
        "\n",
        "\n",
        "# Custom IPython progress bar for training\n",
        "class ProgressMonitor(object):\n",
        "    \n",
        "    tmpl = \"\"\"\n",
        "        <table style=\"width: 100%;\">\n",
        "            <tbody>\n",
        "                <tr>\n",
        "                    <td style=\"width: 30%;\">\n",
        "                     <b>Loss: {loss:0.4f}</b> &nbsp&nbsp&nbsp {value} / {length}\n",
        "                    </td>\n",
        "                    <td style=\"width: 70%;\">\n",
        "                        <progress value='{value}' max='{length}', style='width: 100%'>{value}</progress>\n",
        "                    </td>\n",
        "                </tr>\n",
        "            </tbody>\n",
        "        </table>        \n",
        "        \"\"\"\n",
        "\n",
        "    def __init__(self, length):\n",
        "        self.length = length\n",
        "        self.count = 0\n",
        "        self.display = display(self.html(0, 0), display_id=True)\n",
        "        \n",
        "    def html(self, count, loss):\n",
        "        return HTML(self.tmpl.format(length=self.length, value=count, loss=loss))\n",
        "        \n",
        "    def update(self, count, loss):\n",
        "        self.count += count\n",
        "        self.display.update(self.html(self.count, loss))"
      ],
      "execution_count": 7,
      "outputs": []
    },
    {
      "cell_type": "markdown",
      "metadata": {
        "id": "2z3X8Yx7M2xI"
      },
      "source": [
        "### Define CNN models\n",
        "___"
      ]
    },
    {
      "cell_type": "markdown",
      "source": [
        "![image.png](data:image/png;base64,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)"
      ],
      "metadata": {
        "id": "v27M5WNYTgVX"
      }
    },
    {
      "cell_type": "code",
      "metadata": {
        "id": "p0CIgl4RQs8Z"
      },
      "source": [
        "# ConvNet3 - Conv layer 2 + fc layer 2\n",
        "class ConvNet3(nn.Module):\n",
        "    def __init__(self, num_classes=10):\n",
        "        super().__init__()\n",
        "        \n",
        "        self.layer1 = nn.Sequential(\n",
        "            nn.Conv2d(in_channels  = 1, out_channels = 16, kernel_size = 5, stride = 1, padding = 2),\n",
        "            nn.BatchNorm2d(num_features = 16),\n",
        "            nn.ReLU(),\n",
        "            nn.MaxPool2d(kernel_size = 2, stride = 2)\n",
        "        )\n",
        "\n",
        "        self.layer2 = nn.Sequential(\n",
        "            nn.Conv2d(in_channels  = 16, out_channels = 32, kernel_size = 5, stride = 1, padding = 2),\n",
        "            nn.BatchNorm2d(num_features = 32),\n",
        "            nn.ReLU(),\n",
        "            nn.MaxPool2d(kernel_size = 2, stride = 2)\n",
        "        )\n",
        "\n",
        "        self.fc = nn.Sequential(\n",
        "            nn.Dropout(p = 0.5),\n",
        "            nn.Linear(7*7*32, 512),\n",
        "            nn.BatchNorm1d(num_features = 512),\n",
        "            nn.ReLU(),\n",
        "            nn.Dropout(p = 0.5),\n",
        "            nn.Linear(512, num_classes)\n",
        "        )\n",
        "\n",
        "    def forward(self, x):\n",
        "        out = self.layer1(x)\n",
        "        out = self.layer2(out)\n",
        "        out = out.reshape(out.size(0), -1) #fc layer 입력 전reshape(미니 배치사이즈, 나머지는 일렬로)\n",
        "        out = self.fc(out)\n",
        "        return out"
      ],
      "execution_count": 9,
      "outputs": []
    },
    {
      "cell_type": "code",
      "metadata": {
        "id": "u7vA1a7NM2xL"
      },
      "source": [
        "# 모델 생성\n",
        "model = ConvNet3(num_classes).to(device)"
      ],
      "execution_count": 10,
      "outputs": []
    },
    {
      "cell_type": "code",
      "metadata": {
        "id": "mSdGu8YRM2xM"
      },
      "source": [
        "# 손실함수 - Cross entropy loss, optimizer - Adam\n",
        "loss_func = nn.CrossEntropyLoss()\n",
        "optimizer = torch.optim.Adam(model.parameters(), lr=learning_rate)"
      ],
      "execution_count": 11,
      "outputs": []
    },
    {
      "cell_type": "markdown",
      "metadata": {
        "id": "pQyAm_yWM2xS"
      },
      "source": [
        "### Train\n",
        "---"
      ]
    },
    {
      "cell_type": "code",
      "metadata": {
        "id": "uXq8-IvNM2xT"
      },
      "source": [
        "# train 함수\n",
        "def train():\n",
        "    model.train()\n",
        "\n",
        "    batch_loss_list = []\n",
        "    progress = ProgressMonitor( length = len(train_dataset) )\n",
        "\n",
        "    for batch, target in train_loader:\n",
        "        batch, target = batch.to(device), target.to(device)\n",
        "\n",
        "        output = model( batch )\n",
        "        loss = loss_func( output, target )\n",
        "\n",
        "        optimizer.zero_grad()\n",
        "        loss.backward()\n",
        "        optimizer.step()\n",
        "\n",
        "        batch_loss_list.append(loss.item())\n",
        "        progress.update(batch.shape[0], sum(batch_loss_list) / len(batch_loss_list))"
      ],
      "execution_count": 12,
      "outputs": []
    },
    {
      "cell_type": "code",
      "metadata": {
        "id": "cKkLYuWkM2xU"
      },
      "source": [
        "# test 함수\n",
        "def test():\n",
        "    model.eval()\n",
        "    correct = 0\n",
        "\n",
        "    with torch.no_grad():\n",
        "        for batch, target in test_loader:\n",
        "            batch, target = batch.to(device), target.to(device)\n",
        "\n",
        "            output = model( batch )\n",
        "\n",
        "            output = torch.argmax(output, 1)\n",
        "\n",
        "            correct += (output == target).sum().item()\n",
        "\n",
        "    acc = 100 * float(correct)/ len(test_dataset)\n",
        "    print('Test accuracy : {}/{} ({:.2f}%)'.format(correct, len(test_dataset), acc))"
      ],
      "execution_count": 13,
      "outputs": []
    },
    {
      "cell_type": "markdown",
      "source": [
        "### result\n",
        "---\n",
        "accuracy 95% 이상의 결과를 만들어 해당부분 스크린샷과 ipynb 파일을 제출해주세요"
      ],
      "metadata": {
        "id": "GibXGu9_V5HY"
      }
    },
    {
      "cell_type": "code",
      "metadata": {
        "id": "ZR-CkDGAM2xW",
        "colab": {
          "base_uri": "https://localhost:8080/",
          "height": 438
        },
        "outputId": "45494c07-9da9-4670-b406-06e000ffaa15"
      },
      "source": [
        "# main loop\n",
        "for epoch in range(num_epochs):\n",
        "    train()\n",
        "    test()"
      ],
      "execution_count": 14,
      "outputs": [
        {
          "output_type": "display_data",
          "data": {
            "text/plain": [
              "<IPython.core.display.HTML object>"
            ],
            "text/html": [
              "\n",
              "        <table style=\"width: 100%;\">\n",
              "            <tbody>\n",
              "                <tr>\n",
              "                    <td style=\"width: 30%;\">\n",
              "                     <b>Loss: 0.1600</b> &nbsp&nbsp&nbsp 60000 / 60000\n",
              "                    </td>\n",
              "                    <td style=\"width: 70%;\">\n",
              "                        <progress value='60000' max='60000', style='width: 100%'>60000</progress>\n",
              "                    </td>\n",
              "                </tr>\n",
              "            </tbody>\n",
              "        </table>        \n",
              "        "
            ]
          },
          "metadata": {}
        },
        {
          "output_type": "stream",
          "name": "stdout",
          "text": [
            "Test accuracy : 9862/10000 (98.62%)\n"
          ]
        },
        {
          "output_type": "display_data",
          "data": {
            "text/plain": [
              "<IPython.core.display.HTML object>"
            ],
            "text/html": [
              "\n",
              "        <table style=\"width: 100%;\">\n",
              "            <tbody>\n",
              "                <tr>\n",
              "                    <td style=\"width: 30%;\">\n",
              "                     <b>Loss: 0.0767</b> &nbsp&nbsp&nbsp 60000 / 60000\n",
              "                    </td>\n",
              "                    <td style=\"width: 70%;\">\n",
              "                        <progress value='60000' max='60000', style='width: 100%'>60000</progress>\n",
              "                    </td>\n",
              "                </tr>\n",
              "            </tbody>\n",
              "        </table>        \n",
              "        "
            ]
          },
          "metadata": {}
        },
        {
          "output_type": "stream",
          "name": "stdout",
          "text": [
            "Test accuracy : 9891/10000 (98.91%)\n"
          ]
        },
        {
          "output_type": "display_data",
          "data": {
            "text/plain": [
              "<IPython.core.display.HTML object>"
            ],
            "text/html": [
              "\n",
              "        <table style=\"width: 100%;\">\n",
              "            <tbody>\n",
              "                <tr>\n",
              "                    <td style=\"width: 30%;\">\n",
              "                     <b>Loss: 0.0609</b> &nbsp&nbsp&nbsp 60000 / 60000\n",
              "                    </td>\n",
              "                    <td style=\"width: 70%;\">\n",
              "                        <progress value='60000' max='60000', style='width: 100%'>60000</progress>\n",
              "                    </td>\n",
              "                </tr>\n",
              "            </tbody>\n",
              "        </table>        \n",
              "        "
            ]
          },
          "metadata": {}
        },
        {
          "output_type": "stream",
          "name": "stdout",
          "text": [
            "Test accuracy : 9909/10000 (99.09%)\n"
          ]
        },
        {
          "output_type": "display_data",
          "data": {
            "text/plain": [
              "<IPython.core.display.HTML object>"
            ],
            "text/html": [
              "\n",
              "        <table style=\"width: 100%;\">\n",
              "            <tbody>\n",
              "                <tr>\n",
              "                    <td style=\"width: 30%;\">\n",
              "                     <b>Loss: 0.0543</b> &nbsp&nbsp&nbsp 60000 / 60000\n",
              "                    </td>\n",
              "                    <td style=\"width: 70%;\">\n",
              "                        <progress value='60000' max='60000', style='width: 100%'>60000</progress>\n",
              "                    </td>\n",
              "                </tr>\n",
              "            </tbody>\n",
              "        </table>        \n",
              "        "
            ]
          },
          "metadata": {}
        },
        {
          "output_type": "stream",
          "name": "stdout",
          "text": [
            "Test accuracy : 9926/10000 (99.26%)\n"
          ]
        },
        {
          "output_type": "display_data",
          "data": {
            "text/plain": [
              "<IPython.core.display.HTML object>"
            ],
            "text/html": [
              "\n",
              "        <table style=\"width: 100%;\">\n",
              "            <tbody>\n",
              "                <tr>\n",
              "                    <td style=\"width: 30%;\">\n",
              "                     <b>Loss: 0.0491</b> &nbsp&nbsp&nbsp 60000 / 60000\n",
              "                    </td>\n",
              "                    <td style=\"width: 70%;\">\n",
              "                        <progress value='60000' max='60000', style='width: 100%'>60000</progress>\n",
              "                    </td>\n",
              "                </tr>\n",
              "            </tbody>\n",
              "        </table>        \n",
              "        "
            ]
          },
          "metadata": {}
        },
        {
          "output_type": "stream",
          "name": "stdout",
          "text": [
            "Test accuracy : 9926/10000 (99.26%)\n"
          ]
        },
        {
          "output_type": "display_data",
          "data": {
            "text/plain": [
              "<IPython.core.display.HTML object>"
            ],
            "text/html": [
              "\n",
              "        <table style=\"width: 100%;\">\n",
              "            <tbody>\n",
              "                <tr>\n",
              "                    <td style=\"width: 30%;\">\n",
              "                     <b>Loss: 0.0456</b> &nbsp&nbsp&nbsp 60000 / 60000\n",
              "                    </td>\n",
              "                    <td style=\"width: 70%;\">\n",
              "                        <progress value='60000' max='60000', style='width: 100%'>60000</progress>\n",
              "                    </td>\n",
              "                </tr>\n",
              "            </tbody>\n",
              "        </table>        \n",
              "        "
            ]
          },
          "metadata": {}
        },
        {
          "output_type": "stream",
          "name": "stdout",
          "text": [
            "Test accuracy : 9934/10000 (99.34%)\n"
          ]
        },
        {
          "output_type": "display_data",
          "data": {
            "text/plain": [
              "<IPython.core.display.HTML object>"
            ],
            "text/html": [
              "\n",
              "        <table style=\"width: 100%;\">\n",
              "            <tbody>\n",
              "                <tr>\n",
              "                    <td style=\"width: 30%;\">\n",
              "                     <b>Loss: 0.0422</b> &nbsp&nbsp&nbsp 60000 / 60000\n",
              "                    </td>\n",
              "                    <td style=\"width: 70%;\">\n",
              "                        <progress value='60000' max='60000', style='width: 100%'>60000</progress>\n",
              "                    </td>\n",
              "                </tr>\n",
              "            </tbody>\n",
              "        </table>        \n",
              "        "
            ]
          },
          "metadata": {}
        },
        {
          "output_type": "stream",
          "name": "stdout",
          "text": [
            "Test accuracy : 9936/10000 (99.36%)\n"
          ]
        },
        {
          "output_type": "display_data",
          "data": {
            "text/plain": [
              "<IPython.core.display.HTML object>"
            ],
            "text/html": [
              "\n",
              "        <table style=\"width: 100%;\">\n",
              "            <tbody>\n",
              "                <tr>\n",
              "                    <td style=\"width: 30%;\">\n",
              "                     <b>Loss: 0.0372</b> &nbsp&nbsp&nbsp 60000 / 60000\n",
              "                    </td>\n",
              "                    <td style=\"width: 70%;\">\n",
              "                        <progress value='60000' max='60000', style='width: 100%'>60000</progress>\n",
              "                    </td>\n",
              "                </tr>\n",
              "            </tbody>\n",
              "        </table>        \n",
              "        "
            ]
          },
          "metadata": {}
        },
        {
          "output_type": "stream",
          "name": "stdout",
          "text": [
            "Test accuracy : 9938/10000 (99.38%)\n"
          ]
        },
        {
          "output_type": "display_data",
          "data": {
            "text/plain": [
              "<IPython.core.display.HTML object>"
            ],
            "text/html": [
              "\n",
              "        <table style=\"width: 100%;\">\n",
              "            <tbody>\n",
              "                <tr>\n",
              "                    <td style=\"width: 30%;\">\n",
              "                     <b>Loss: 0.0332</b> &nbsp&nbsp&nbsp 60000 / 60000\n",
              "                    </td>\n",
              "                    <td style=\"width: 70%;\">\n",
              "                        <progress value='60000' max='60000', style='width: 100%'>60000</progress>\n",
              "                    </td>\n",
              "                </tr>\n",
              "            </tbody>\n",
              "        </table>        \n",
              "        "
            ]
          },
          "metadata": {}
        },
        {
          "output_type": "stream",
          "name": "stdout",
          "text": [
            "Test accuracy : 9925/10000 (99.25%)\n"
          ]
        },
        {
          "output_type": "display_data",
          "data": {
            "text/plain": [
              "<IPython.core.display.HTML object>"
            ],
            "text/html": [
              "\n",
              "        <table style=\"width: 100%;\">\n",
              "            <tbody>\n",
              "                <tr>\n",
              "                    <td style=\"width: 30%;\">\n",
              "                     <b>Loss: 0.0331</b> &nbsp&nbsp&nbsp 60000 / 60000\n",
              "                    </td>\n",
              "                    <td style=\"width: 70%;\">\n",
              "                        <progress value='60000' max='60000', style='width: 100%'>60000</progress>\n",
              "                    </td>\n",
              "                </tr>\n",
              "            </tbody>\n",
              "        </table>        \n",
              "        "
            ]
          },
          "metadata": {}
        },
        {
          "output_type": "stream",
          "name": "stdout",
          "text": [
            "Test accuracy : 9931/10000 (99.31%)\n"
          ]
        }
      ]
    },
    {
      "cell_type": "markdown",
      "source": [
        "![success.jpg](data:image/jpeg;base64,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)"
      ],
      "metadata": {
        "id": "cO0NaA_BBHd-"
      }
    }
  ]
}